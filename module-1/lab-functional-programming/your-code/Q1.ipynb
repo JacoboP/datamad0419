{
 "cells": [
  {
   "cell_type": "markdown",
   "metadata": {},
   "source": [
    "In the cell below, create a Python function that wraps your previous solution for the Bag of Words lab.\n",
    "\n",
    "Requirements:\n",
    "\n",
    "1. Your function should accept the following parameters:\n",
    "    * `docs` [REQUIRED] - array of document paths.\n",
    "    * `stop_words` [OPTIONAL] - array of stop words. The default value is an empty array.\n",
    "\n",
    "1. Your function should return a Python object that contains the following:\n",
    "    * `bag_of_words` - array of strings of normalized unique words in the corpus.\n",
    "    * `term_freq` - array of the term-frequency vectors."
   ]
  },
  {
   "cell_type": "code",
   "execution_count": 1,
   "metadata": {},
   "outputs": [],
   "source": [
    "import numpy as np\n",
    "import pandas as pd\n",
    "\n",
    "def get_bow_from_docs(docs, stop_words=[]):\n",
    "        \n",
    "    corpus = []\n",
    "    \n",
    "    for doc in docs:\n",
    "        f = open (doc)\n",
    "        corpus.append(f.read().lower().replace('.', ''))\n",
    "\n",
    "    bag_of_words = []\n",
    "\n",
    "    for text in corpus:\n",
    "        words=text.split()\n",
    "        for word in words:\n",
    "            if word not in bag_of_words:\n",
    "                bag_of_words.append(word)\n",
    "    \n",
    "    term_freq=[]\n",
    "\n",
    "    for text in range(len(corpus)):\n",
    "        term_freq.append([])\n",
    "        split_text = corpus[text].split()\n",
    "        for y in range(len(bag_of_words)):\n",
    "            term_freq[text].append(0)\n",
    "            for z in split_text:\n",
    "                if z == bag_of_words[y]:\n",
    "                    term_freq[text][y] += 1\n",
    "    \n",
    "    return {\n",
    "        \"bag_of_words\": bag_of_words,\n",
    "        \"term_freq\": term_freq\n",
    "    }"
   ]
  },
  {
   "cell_type": "markdown",
   "metadata": {},
   "source": [
    "Test your function without stop words. You should see the output like below:\n",
    "\n",
    "```{'bag_of_words': ['ironhack', 'is', 'cool', 'i', 'love', 'am', 'a', 'student', 'at'], 'term_freq': [[1, 1, 1, 0, 0, 0, 0, 0, 0], [1, 0, 0, 1, 1, 0, 0, 0, 0], [1, 0, 0, 1, 0, 1, 1, 1, 1]]}```"
   ]
  },
  {
   "cell_type": "code",
   "execution_count": 2,
   "metadata": {},
   "outputs": [
    {
     "name": "stdout",
     "output_type": "stream",
     "text": [
      "{'bag_of_words': ['ironhack', 'is', 'cool', 'i', 'love', 'am', 'a', 'student', 'at'], 'term_freq': [[1, 1, 1, 0, 0, 0, 0, 0, 0], [1, 0, 0, 1, 1, 0, 0, 0, 0], [1, 0, 0, 1, 0, 1, 1, 1, 1]]}\n"
     ]
    }
   ],
   "source": [
    "# Define doc paths array\n",
    "docs = ['../../lab-bag-of-words/your-code/doc1.txt','../../lab-bag-of-words/your-code/doc2.txt','../../lab-bag-of-words/your-code/doc3.txt']\n",
    "\n",
    "\n",
    "# Obtain BoW from your function\n",
    "bow = get_bow_from_docs(docs)\n",
    "\n",
    "# Print BoW\n",
    "print(bow)"
   ]
  },
  {
   "cell_type": "markdown",
   "metadata": {},
   "source": [
    "If your attempt above is successful, nice work done!\n",
    "\n",
    "Now test your function again with the stop words. In the previous lab we defined the stop words in a large array. In this lab, we'll import the stop words from Scikit-Learn."
   ]
  },
  {
   "cell_type": "code",
   "execution_count": 8,
   "metadata": {},
   "outputs": [
    {
     "name": "stdout",
     "output_type": "stream",
     "text": [
      "frozenset({'go', 'which', 'interest', 'is', 'herein', 'eleven', 'so', 'until', 'seem', 'show', 'etc', 'what', 'were', 'therefore', 'de', 'above', 'nor', 'enough', 'between', 'anyhow', 'beyond', 'because', 'up', 'my', 'find', 'fifty', 'anyone', 'couldnt', 'hereafter', 'everything', 'next', 'many', 'moreover', 'by', 'across', 'that', 'others', 'could', 'formerly', 'system', 'cannot', 'nine', 'such', 'latterly', 'con', 'do', 'either', 'give', 'within', 'she', 'then', 'describe', 'of', 'myself', 'thus', 'whither', 'except', 'six', 'somehow', 'had', 'noone', 'keep', 'his', 'nowhere', 'amongst', 'over', 'these', 'toward', 'indeed', 'themselves', 'from', 'sincere', 'around', 'down', 'thereafter', 'already', 'somewhere', 'thick', 'seeming', 'two', 'this', 'some', 'due', 'where', 'cry', 'beside', 'under', 'own', 'below', 'how', 'rather', 'become', 'bill', 'whom', 'five', 'seems', 'thereby', 'top', 'afterwards', 'mill', 'more', 'being', 'all', 'together', 'itself', 'behind', 'an', 'beforehand', 'yourself', 'whereafter', 'in', 'something', 'whenever', 'further', 'while', 'herself', 'put', 'hundred', 'upon', 'third', 'less', 'no', 'take', 'several', 'onto', 'co', 'anywhere', 'done', 'through', 'though', 'sometimes', 'here', 'our', 'has', 'be', 'whereupon', 'seemed', 'its', 'after', 'yet', 'wherever', 'mostly', 'both', 'at', 'now', 'us', 'will', 'forty', 'therein', 'move', 'they', 'about', 'am', 'anything', 'among', 'side', 'hereby', 'thence', 'thereupon', 'amount', 'call', 'himself', 'them', 'whatever', 'since', 'into', 'cant', 'ours', 'he', 'hers', 'became', 'please', 'whose', 'too', 'namely', 'becoming', 'as', 'each', 'wherein', 'sometime', 'detail', 'on', 'else', 'or', 'but', 'other', 'always', 'see', 'back', 'first', 'mine', 'almost', 'amoungst', 'me', 'ever', 'alone', 'four', 'towards', 'hence', 'also', 'yourselves', 'any', 'very', 'without', 'to', 'throughout', 'ourselves', 'their', 'still', 'those', 'serious', 'when', 'fire', 'per', 'much', 'there', 'been', 'thin', 'three', 'often', 'off', 'meanwhile', 'nevertheless', 'only', 'fifteen', 'i', 'with', 'neither', 'than', 'out', 'a', 'sixty', 'you', 'ie', 'might', 'must', 're', 'him', 'becomes', 'everyone', 'if', 'for', 'have', 'thru', 'every', 'another', 'get', 'nobody', 'made', 'against', 'nothing', 'whereas', 'un', 'whether', 'during', 'full', 'even', 'well', 'before', 'name', 'perhaps', 'never', 'the', 'whereby', 'your', 'who', 'latter', 'was', 'hereupon', 'whence', 'and', 'twenty', 'why', 'former', 'last', 'otherwise', 'yours', 'can', 'everywhere', 'someone', 'ltd', 'inc', 'it', 'none', 'along', 'eight', 'would', 'again', 'however', 'anyway', 'elsewhere', 'eg', 'are', 'least', 'part', 'once', 'bottom', 'we', 'one', 'besides', 'although', 'ten', 'found', 'hasnt', 'same', 'fill', 'front', 'most', 'via', 'empty', 'may', 'should', 'not', 'whoever', 'whole', 'few', 'her', 'twelve'})\n"
     ]
    }
   ],
   "source": [
    "import sklearn\n",
    "\n",
    "from sklearn.feature_extraction import stop_words\n",
    "print(stop_words.ENGLISH_STOP_WORDS)"
   ]
  },
  {
   "cell_type": "markdown",
   "metadata": {},
   "source": [
    "You should have seen a large list of words that looks like:\n",
    "\n",
    "```frozenset({'across', 'mine', 'cannot', ...})```\n",
    "\n",
    "`frozenset` is a type of Python object that is immutable. In this lab you can use it just like an array without conversion."
   ]
  },
  {
   "cell_type": "markdown",
   "metadata": {},
   "source": [
    "Next, test your function with supplying `stop_words.ENGLISH_STOP_WORDS` as the second parameter."
   ]
  },
  {
   "cell_type": "code",
   "execution_count": 10,
   "metadata": {},
   "outputs": [
    {
     "name": "stdout",
     "output_type": "stream",
     "text": [
      "{'bag_of_words': ['ironhack', 'is', 'cool', 'i', 'love', 'am', 'a', 'student', 'at'], 'term_freq': [[1, 1, 1, 0, 0, 0, 0, 0, 0], [1, 0, 0, 1, 1, 0, 0, 0, 0], [1, 0, 0, 1, 0, 1, 1, 1, 1]]}\n"
     ]
    }
   ],
   "source": [
    "bow = get_bow_from_docs(docs, stop_words.ENGLISH_STOP_WORDS)\n",
    "\n",
    "print(bow)"
   ]
  },
  {
   "cell_type": "markdown",
   "metadata": {},
   "source": [
    "You should have seen:\n",
    "\n",
    "```{'bag_of_words': ['ironhack', 'cool', 'love', 'student'], 'term_freq': [[1, 1, 0, 0], [1, 0, 1, 0], [1, 0, 0, 1]]}```"
   ]
  },
  {
   "cell_type": "code",
   "execution_count": null,
   "metadata": {},
   "outputs": [],
   "source": []
  }
 ],
 "metadata": {
  "kernelspec": {
   "display_name": "Python 3",
   "language": "python",
   "name": "python3"
  },
  "language_info": {
   "codemirror_mode": {
    "name": "ipython",
    "version": 3
   },
   "file_extension": ".py",
   "mimetype": "text/x-python",
   "name": "python",
   "nbconvert_exporter": "python",
   "pygments_lexer": "ipython3",
   "version": "3.7.3"
  }
 },
 "nbformat": 4,
 "nbformat_minor": 2
}
