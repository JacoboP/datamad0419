{
 "cells": [
  {
   "cell_type": "code",
   "execution_count": 1,
   "metadata": {},
   "outputs": [],
   "source": [
    "# Libraries used\n",
    "from pymongo import MongoClient\n",
    "import pandas as pd\n",
    "from pandas.io.json import json_normalize\n",
    "import requests"
   ]
  },
  {
   "cell_type": "code",
   "execution_count": 2,
   "metadata": {},
   "outputs": [
    {
     "data": {
      "text/html": [
       "<div>\n",
       "<style scoped>\n",
       "    .dataframe tbody tr th:only-of-type {\n",
       "        vertical-align: middle;\n",
       "    }\n",
       "\n",
       "    .dataframe tbody tr th {\n",
       "        vertical-align: top;\n",
       "    }\n",
       "\n",
       "    .dataframe thead th {\n",
       "        text-align: right;\n",
       "    }\n",
       "</style>\n",
       "<table border=\"1\" class=\"dataframe\">\n",
       "  <thead>\n",
       "    <tr style=\"text-align: right;\">\n",
       "      <th></th>\n",
       "      <th>_funded_year</th>\n",
       "      <th>_raised_amount</th>\n",
       "      <th>_raised_currency_code</th>\n",
       "      <th>_round_code</th>\n",
       "      <th>name</th>\n",
       "    </tr>\n",
       "  </thead>\n",
       "  <tbody>\n",
       "    <tr>\n",
       "      <th>0</th>\n",
       "      <td>2007.0</td>\n",
       "      <td>1500000.0</td>\n",
       "      <td>USD</td>\n",
       "      <td>a</td>\n",
       "      <td>Geni</td>\n",
       "    </tr>\n",
       "    <tr>\n",
       "      <th>1</th>\n",
       "      <td>2007.0</td>\n",
       "      <td>10000000.0</td>\n",
       "      <td>USD</td>\n",
       "      <td>b</td>\n",
       "      <td>Geni</td>\n",
       "    </tr>\n",
       "    <tr>\n",
       "      <th>2</th>\n",
       "      <td>2009.0</td>\n",
       "      <td>5000000.0</td>\n",
       "      <td>USD</td>\n",
       "      <td>c</td>\n",
       "      <td>Geni</td>\n",
       "    </tr>\n",
       "    <tr>\n",
       "      <th>3</th>\n",
       "      <td>2007.0</td>\n",
       "      <td>1500000.0</td>\n",
       "      <td>USD</td>\n",
       "      <td>a</td>\n",
       "      <td>MeetMoi</td>\n",
       "    </tr>\n",
       "    <tr>\n",
       "      <th>4</th>\n",
       "      <td>2008.0</td>\n",
       "      <td>1500000.0</td>\n",
       "      <td>USD</td>\n",
       "      <td>b</td>\n",
       "      <td>MeetMoi</td>\n",
       "    </tr>\n",
       "  </tbody>\n",
       "</table>\n",
       "</div>"
      ],
      "text/plain": [
       "   _funded_year  _raised_amount _raised_currency_code _round_code     name\n",
       "0        2007.0       1500000.0                   USD           a     Geni\n",
       "1        2007.0      10000000.0                   USD           b     Geni\n",
       "2        2009.0       5000000.0                   USD           c     Geni\n",
       "3        2007.0       1500000.0                   USD           a  MeetMoi\n",
       "4        2008.0       1500000.0                   USD           b  MeetMoi"
      ]
     },
     "execution_count": 2,
     "metadata": {},
     "output_type": "execute_result"
    }
   ],
   "source": [
    "client = MongoClient ('localhost', 27017) \n",
    "db = client['companies']\n",
    "cursor2 = db.companies.find({'$and': \n",
    "                             [{'number_of_employees': {'$gt': 1}},\n",
    "                              {'deadpooled_year': {'$eq': None}},\n",
    "                              {'offices.latitude': {'$exists': True,'$ne': None}},\n",
    "                              {'offices.longitude': {'$exists': True,'$ne': None}},\n",
    "                              {'funding_rounds': {'$exists': True,'$ne': None}},\n",
    "\n",
    "                        {'$or': \n",
    "                               [{'category_code':'games_video'},\n",
    "                                {'category_code':'software'},\n",
    "                                {'category_code':'web'},\n",
    "                               {'category_code':'social'}]\n",
    "                        }]}\n",
    "                            ,{'name':1, 'category_code':1, 'founded_year': 1, '_id': 0, 'number_of_employees':1, \n",
    "                              'offices.latitude':1, 'offices.longitude':1, 'offices.zip_code':1, 'ipo':1, \n",
    "                              'deadpooled_year':1, 'category_code':1, 'funding_rounds.funded_year':1, \n",
    "                              'funding_rounds.round_code':1, 'funding_rounds.raised_amount':1, \n",
    "                              'funding_rounds.raised_currency_code':1}) \n",
    "\n",
    "data2 = json_normalize(data = cursor2, record_path = 'funding_rounds', meta = ['name'], \n",
    "                      errors='ignore', record_prefix='_')\n",
    "\n",
    "data2 = data2.fillna(0)\n",
    "data2.head()"
   ]
  },
  {
   "cell_type": "code",
   "execution_count": 3,
   "metadata": {
    "scrolled": true
   },
   "outputs": [
    {
     "data": {
      "text/plain": [
       "USD    1229\n",
       "0        99\n",
       "EUR      37\n",
       "GBP      16\n",
       "CAD       3\n",
       "SEK       1\n",
       "Name: _raised_currency_code, dtype: int64"
      ]
     },
     "execution_count": 3,
     "metadata": {},
     "output_type": "execute_result"
    }
   ],
   "source": [
    "data2['_raised_currency_code'].value_counts()"
   ]
  },
  {
   "cell_type": "code",
   "execution_count": 4,
   "metadata": {},
   "outputs": [],
   "source": [
    "url = 'https://api.exchangerate-api.com/v4/latest/USD'\n",
    "response = requests.get(url)\n",
    "currency_data = response.json()"
   ]
  },
  {
   "cell_type": "code",
   "execution_count": 5,
   "metadata": {},
   "outputs": [],
   "source": [
    "data2['currency_change']=data2['_raised_currency_code'].map(currency_data['rates'])\n",
    "data2 = data2.fillna(1)"
   ]
  },
  {
   "cell_type": "code",
   "execution_count": 6,
   "metadata": {},
   "outputs": [
    {
     "data": {
      "text/html": [
       "<div>\n",
       "<style scoped>\n",
       "    .dataframe tbody tr th:only-of-type {\n",
       "        vertical-align: middle;\n",
       "    }\n",
       "\n",
       "    .dataframe tbody tr th {\n",
       "        vertical-align: top;\n",
       "    }\n",
       "\n",
       "    .dataframe thead th {\n",
       "        text-align: right;\n",
       "    }\n",
       "</style>\n",
       "<table border=\"1\" class=\"dataframe\">\n",
       "  <thead>\n",
       "    <tr style=\"text-align: right;\">\n",
       "      <th></th>\n",
       "      <th>_funded_year</th>\n",
       "      <th>_raised_amount</th>\n",
       "      <th>_raised_currency_code</th>\n",
       "      <th>_round_code</th>\n",
       "      <th>name</th>\n",
       "      <th>currency_change</th>\n",
       "      <th>raised_amount_USD</th>\n",
       "    </tr>\n",
       "  </thead>\n",
       "  <tbody>\n",
       "    <tr>\n",
       "      <th>0</th>\n",
       "      <td>2007.0</td>\n",
       "      <td>1500000.0</td>\n",
       "      <td>USD</td>\n",
       "      <td>a</td>\n",
       "      <td>Geni</td>\n",
       "      <td>1.0</td>\n",
       "      <td>1500000.0</td>\n",
       "    </tr>\n",
       "    <tr>\n",
       "      <th>1</th>\n",
       "      <td>2007.0</td>\n",
       "      <td>10000000.0</td>\n",
       "      <td>USD</td>\n",
       "      <td>b</td>\n",
       "      <td>Geni</td>\n",
       "      <td>1.0</td>\n",
       "      <td>10000000.0</td>\n",
       "    </tr>\n",
       "    <tr>\n",
       "      <th>2</th>\n",
       "      <td>2009.0</td>\n",
       "      <td>5000000.0</td>\n",
       "      <td>USD</td>\n",
       "      <td>c</td>\n",
       "      <td>Geni</td>\n",
       "      <td>1.0</td>\n",
       "      <td>5000000.0</td>\n",
       "    </tr>\n",
       "    <tr>\n",
       "      <th>3</th>\n",
       "      <td>2007.0</td>\n",
       "      <td>1500000.0</td>\n",
       "      <td>USD</td>\n",
       "      <td>a</td>\n",
       "      <td>MeetMoi</td>\n",
       "      <td>1.0</td>\n",
       "      <td>1500000.0</td>\n",
       "    </tr>\n",
       "    <tr>\n",
       "      <th>4</th>\n",
       "      <td>2008.0</td>\n",
       "      <td>1500000.0</td>\n",
       "      <td>USD</td>\n",
       "      <td>b</td>\n",
       "      <td>MeetMoi</td>\n",
       "      <td>1.0</td>\n",
       "      <td>1500000.0</td>\n",
       "    </tr>\n",
       "  </tbody>\n",
       "</table>\n",
       "</div>"
      ],
      "text/plain": [
       "   _funded_year  _raised_amount _raised_currency_code _round_code     name  \\\n",
       "0        2007.0       1500000.0                   USD           a     Geni   \n",
       "1        2007.0      10000000.0                   USD           b     Geni   \n",
       "2        2009.0       5000000.0                   USD           c     Geni   \n",
       "3        2007.0       1500000.0                   USD           a  MeetMoi   \n",
       "4        2008.0       1500000.0                   USD           b  MeetMoi   \n",
       "\n",
       "   currency_change  raised_amount_USD  \n",
       "0              1.0          1500000.0  \n",
       "1              1.0         10000000.0  \n",
       "2              1.0          5000000.0  \n",
       "3              1.0          1500000.0  \n",
       "4              1.0          1500000.0  "
      ]
     },
     "execution_count": 6,
     "metadata": {},
     "output_type": "execute_result"
    }
   ],
   "source": [
    "data2['raised_amount_USD']=data2['_raised_amount']*data2['currency_change']\n",
    "data2.head()"
   ]
  },
  {
   "cell_type": "code",
   "execution_count": 7,
   "metadata": {},
   "outputs": [],
   "source": [
    "data2=data2[['name', '_funded_year','_round_code', 'raised_amount_USD']]"
   ]
  },
  {
   "cell_type": "code",
   "execution_count": 8,
   "metadata": {},
   "outputs": [
    {
     "data": {
      "text/plain": [
       "a                   301\n",
       "unattributed        227\n",
       "seed                210\n",
       "b                   209\n",
       "angel               156\n",
       "c                   104\n",
       "debt_round           71\n",
       "d                    40\n",
       "partial              22\n",
       "private_equity       17\n",
       "e                    10\n",
       "secondary_market      5\n",
       "grant                 4\n",
       "f                     3\n",
       "crowd                 2\n",
       "post_ipo_equity       2\n",
       "convertible           1\n",
       "g                     1\n",
       "Name: _round_code, dtype: int64"
      ]
     },
     "execution_count": 8,
     "metadata": {},
     "output_type": "execute_result"
    }
   ],
   "source": [
    "data2['_round_code'].value_counts()"
   ]
  },
  {
   "cell_type": "code",
   "execution_count": 9,
   "metadata": {},
   "outputs": [],
   "source": [
    "def drop(round_code):\n",
    "    return data2.drop(data2[data2['_round_code']==round_code].index)\n",
    "\n",
    "data2 = drop('debt_round')\n",
    "data2 = drop('grant')\n",
    "data2 = drop('secondary_market')\n",
    "data2 = drop('post_ipo_equity')\n",
    "data2 = drop('convertible')\n",
    "data2 = drop('partial')"
   ]
  },
  {
   "cell_type": "code",
   "execution_count": 10,
   "metadata": {},
   "outputs": [],
   "source": [
    "data2['last_raised_amount_MnUSD'] = (data2['raised_amount_USD']/(10**6)).round(1)\n",
    "data2['total_raised_MnUSD'] = (data2.groupby('name')['last_raised_amount_MnUSD'].transform('sum')).round(1)\n",
    "data2['round_average_MnUSD'] = (data2.groupby('name')['last_raised_amount_MnUSD'].transform('mean')).round(1)\n",
    "data2['rounds'] = (data2['total_raised_MnUSD']/data2['round_average_MnUSD'])\n",
    "data2['rounds'] = data2['rounds'].round(0)\n",
    "data2 = data2.drop(['_funded_year','raised_amount_USD', '_round_code'], axis=1)"
   ]
  },
  {
   "cell_type": "code",
   "execution_count": 13,
   "metadata": {},
   "outputs": [
    {
     "data": {
      "text/html": [
       "<div>\n",
       "<style scoped>\n",
       "    .dataframe tbody tr th:only-of-type {\n",
       "        vertical-align: middle;\n",
       "    }\n",
       "\n",
       "    .dataframe tbody tr th {\n",
       "        vertical-align: top;\n",
       "    }\n",
       "\n",
       "    .dataframe thead th {\n",
       "        text-align: right;\n",
       "    }\n",
       "</style>\n",
       "<table border=\"1\" class=\"dataframe\">\n",
       "  <thead>\n",
       "    <tr style=\"text-align: right;\">\n",
       "      <th></th>\n",
       "      <th>name</th>\n",
       "      <th>last_raised_amount_MnUSD</th>\n",
       "      <th>total_raised_MnUSD</th>\n",
       "      <th>round_average_MnUSD</th>\n",
       "      <th>rounds</th>\n",
       "    </tr>\n",
       "  </thead>\n",
       "  <tbody>\n",
       "    <tr>\n",
       "      <th>2</th>\n",
       "      <td>Geni</td>\n",
       "      <td>5.0</td>\n",
       "      <td>16.5</td>\n",
       "      <td>5.5</td>\n",
       "      <td>3.0</td>\n",
       "    </tr>\n",
       "    <tr>\n",
       "      <th>5</th>\n",
       "      <td>MeetMoi</td>\n",
       "      <td>2.6</td>\n",
       "      <td>5.6</td>\n",
       "      <td>1.9</td>\n",
       "      <td>3.0</td>\n",
       "    </tr>\n",
       "    <tr>\n",
       "      <th>12</th>\n",
       "      <td>Twitter</td>\n",
       "      <td>400.0</td>\n",
       "      <td>760.2</td>\n",
       "      <td>108.6</td>\n",
       "      <td>7.0</td>\n",
       "    </tr>\n",
       "    <tr>\n",
       "      <th>24</th>\n",
       "      <td>Facebook</td>\n",
       "      <td>1500.0</td>\n",
       "      <td>2325.7</td>\n",
       "      <td>232.6</td>\n",
       "      <td>10.0</td>\n",
       "    </tr>\n",
       "    <tr>\n",
       "      <th>28</th>\n",
       "      <td>Plaxo</td>\n",
       "      <td>9.0</td>\n",
       "      <td>28.3</td>\n",
       "      <td>7.1</td>\n",
       "      <td>4.0</td>\n",
       "    </tr>\n",
       "  </tbody>\n",
       "</table>\n",
       "</div>"
      ],
      "text/plain": [
       "        name  last_raised_amount_MnUSD  total_raised_MnUSD  \\\n",
       "2       Geni                       5.0                16.5   \n",
       "5    MeetMoi                       2.6                 5.6   \n",
       "12   Twitter                     400.0               760.2   \n",
       "24  Facebook                    1500.0              2325.7   \n",
       "28     Plaxo                       9.0                28.3   \n",
       "\n",
       "    round_average_MnUSD  rounds  \n",
       "2                   5.5     3.0  \n",
       "5                   1.9     3.0  \n",
       "12                108.6     7.0  \n",
       "24                232.6    10.0  \n",
       "28                  7.1     4.0  "
      ]
     },
     "execution_count": 13,
     "metadata": {},
     "output_type": "execute_result"
    }
   ],
   "source": [
    "data2 = data2.drop_duplicates(subset='name', keep=\"last\")\n",
    "data2.head()"
   ]
  },
  {
   "cell_type": "code",
   "execution_count": 15,
   "metadata": {},
   "outputs": [],
   "source": [
    "def toCSV(data):\n",
    "    data.to_csv('data_investments.csv')\n",
    "\n",
    "toCSV(data2)"
   ]
  },
  {
   "cell_type": "code",
   "execution_count": null,
   "metadata": {},
   "outputs": [],
   "source": []
  }
 ],
 "metadata": {
  "kernelspec": {
   "display_name": "Python 3",
   "language": "python",
   "name": "python3"
  },
  "language_info": {
   "codemirror_mode": {
    "name": "ipython",
    "version": 3
   },
   "file_extension": ".py",
   "mimetype": "text/x-python",
   "name": "python",
   "nbconvert_exporter": "python",
   "pygments_lexer": "ipython3",
   "version": "3.7.3"
  }
 },
 "nbformat": 4,
 "nbformat_minor": 2
}
