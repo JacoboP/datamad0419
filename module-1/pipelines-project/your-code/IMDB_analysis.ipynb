{
 "cells": [
  {
   "cell_type": "markdown",
   "metadata": {},
   "source": [
    "## PIPELINES PROJECT - Jacobo Pintos\n",
    "\n",
    "La base de datos está bajada de esta web de Kaggle: https://www.kaggle.com/essonnel/5000-imdb-movies-multivariant-analysis"
   ]
  },
  {
   "cell_type": "code",
   "execution_count": 28,
   "metadata": {},
   "outputs": [],
   "source": [
    "import pandas as pd\n",
    "import os\n",
    "import requests\n",
    "import quandl\n",
    "import seaborn as sns\n",
    "import matplotlib.pyplot as plt\n",
    "import numpy as np\n",
    "from dotenv import load_dotenv\n",
    "from collections import Counter"
   ]
  },
  {
   "cell_type": "code",
   "execution_count": 29,
   "metadata": {},
   "outputs": [],
   "source": [
    "DataFrame='movie_metadata.csv'"
   ]
  },
  {
   "cell_type": "markdown",
   "metadata": {},
   "source": [
    "### 1. Read function\n",
    "\n",
    "Creo una función para leer el dataset. Esta función obtendrá el dataset de la dirección que pongamos en la casilla anterior \"DataFrame\"."
   ]
  },
  {
   "cell_type": "code",
   "execution_count": 51,
   "metadata": {},
   "outputs": [
    {
     "data": {
      "text/html": [
       "<div>\n",
       "<style scoped>\n",
       "    .dataframe tbody tr th:only-of-type {\n",
       "        vertical-align: middle;\n",
       "    }\n",
       "\n",
       "    .dataframe tbody tr th {\n",
       "        vertical-align: top;\n",
       "    }\n",
       "\n",
       "    .dataframe thead th {\n",
       "        text-align: right;\n",
       "    }\n",
       "</style>\n",
       "<table border=\"1\" class=\"dataframe\">\n",
       "  <thead>\n",
       "    <tr style=\"text-align: right;\">\n",
       "      <th></th>\n",
       "      <th>color</th>\n",
       "      <th>director_name</th>\n",
       "      <th>num_critic_for_reviews</th>\n",
       "      <th>duration</th>\n",
       "      <th>director_facebook_likes</th>\n",
       "      <th>actor_3_facebook_likes</th>\n",
       "      <th>actor_2_name</th>\n",
       "      <th>actor_1_facebook_likes</th>\n",
       "      <th>gross</th>\n",
       "      <th>genres</th>\n",
       "      <th>...</th>\n",
       "      <th>num_user_for_reviews</th>\n",
       "      <th>language</th>\n",
       "      <th>country</th>\n",
       "      <th>content_rating</th>\n",
       "      <th>budget</th>\n",
       "      <th>title_year</th>\n",
       "      <th>actor_2_facebook_likes</th>\n",
       "      <th>imdb_score</th>\n",
       "      <th>aspect_ratio</th>\n",
       "      <th>movie_facebook_likes</th>\n",
       "    </tr>\n",
       "  </thead>\n",
       "  <tbody>\n",
       "    <tr>\n",
       "      <th>0</th>\n",
       "      <td>Color</td>\n",
       "      <td>James Cameron</td>\n",
       "      <td>723.0</td>\n",
       "      <td>178.0</td>\n",
       "      <td>0.0</td>\n",
       "      <td>855.0</td>\n",
       "      <td>Joel David Moore</td>\n",
       "      <td>1000.0</td>\n",
       "      <td>760505847.0</td>\n",
       "      <td>Action|Adventure|Fantasy|Sci-Fi</td>\n",
       "      <td>...</td>\n",
       "      <td>3054.0</td>\n",
       "      <td>English</td>\n",
       "      <td>USA</td>\n",
       "      <td>PG-13</td>\n",
       "      <td>237000000.0</td>\n",
       "      <td>2009.0</td>\n",
       "      <td>936.0</td>\n",
       "      <td>7.9</td>\n",
       "      <td>1.78</td>\n",
       "      <td>33000</td>\n",
       "    </tr>\n",
       "    <tr>\n",
       "      <th>1</th>\n",
       "      <td>Color</td>\n",
       "      <td>Gore Verbinski</td>\n",
       "      <td>302.0</td>\n",
       "      <td>169.0</td>\n",
       "      <td>563.0</td>\n",
       "      <td>1000.0</td>\n",
       "      <td>Orlando Bloom</td>\n",
       "      <td>40000.0</td>\n",
       "      <td>309404152.0</td>\n",
       "      <td>Action|Adventure|Fantasy</td>\n",
       "      <td>...</td>\n",
       "      <td>1238.0</td>\n",
       "      <td>English</td>\n",
       "      <td>USA</td>\n",
       "      <td>PG-13</td>\n",
       "      <td>300000000.0</td>\n",
       "      <td>2007.0</td>\n",
       "      <td>5000.0</td>\n",
       "      <td>7.1</td>\n",
       "      <td>2.35</td>\n",
       "      <td>0</td>\n",
       "    </tr>\n",
       "    <tr>\n",
       "      <th>2</th>\n",
       "      <td>Color</td>\n",
       "      <td>Sam Mendes</td>\n",
       "      <td>602.0</td>\n",
       "      <td>148.0</td>\n",
       "      <td>0.0</td>\n",
       "      <td>161.0</td>\n",
       "      <td>Rory Kinnear</td>\n",
       "      <td>11000.0</td>\n",
       "      <td>200074175.0</td>\n",
       "      <td>Action|Adventure|Thriller</td>\n",
       "      <td>...</td>\n",
       "      <td>994.0</td>\n",
       "      <td>English</td>\n",
       "      <td>UK</td>\n",
       "      <td>PG-13</td>\n",
       "      <td>245000000.0</td>\n",
       "      <td>2015.0</td>\n",
       "      <td>393.0</td>\n",
       "      <td>6.8</td>\n",
       "      <td>2.35</td>\n",
       "      <td>85000</td>\n",
       "    </tr>\n",
       "    <tr>\n",
       "      <th>3</th>\n",
       "      <td>Color</td>\n",
       "      <td>Christopher Nolan</td>\n",
       "      <td>813.0</td>\n",
       "      <td>164.0</td>\n",
       "      <td>22000.0</td>\n",
       "      <td>23000.0</td>\n",
       "      <td>Christian Bale</td>\n",
       "      <td>27000.0</td>\n",
       "      <td>448130642.0</td>\n",
       "      <td>Action|Thriller</td>\n",
       "      <td>...</td>\n",
       "      <td>2701.0</td>\n",
       "      <td>English</td>\n",
       "      <td>USA</td>\n",
       "      <td>PG-13</td>\n",
       "      <td>250000000.0</td>\n",
       "      <td>2012.0</td>\n",
       "      <td>23000.0</td>\n",
       "      <td>8.5</td>\n",
       "      <td>2.35</td>\n",
       "      <td>164000</td>\n",
       "    </tr>\n",
       "    <tr>\n",
       "      <th>4</th>\n",
       "      <td>NaN</td>\n",
       "      <td>Doug Walker</td>\n",
       "      <td>NaN</td>\n",
       "      <td>NaN</td>\n",
       "      <td>131.0</td>\n",
       "      <td>NaN</td>\n",
       "      <td>Rob Walker</td>\n",
       "      <td>131.0</td>\n",
       "      <td>NaN</td>\n",
       "      <td>Documentary</td>\n",
       "      <td>...</td>\n",
       "      <td>NaN</td>\n",
       "      <td>NaN</td>\n",
       "      <td>NaN</td>\n",
       "      <td>NaN</td>\n",
       "      <td>NaN</td>\n",
       "      <td>NaN</td>\n",
       "      <td>12.0</td>\n",
       "      <td>7.1</td>\n",
       "      <td>NaN</td>\n",
       "      <td>0</td>\n",
       "    </tr>\n",
       "  </tbody>\n",
       "</table>\n",
       "<p>5 rows × 28 columns</p>\n",
       "</div>"
      ],
      "text/plain": [
       "   color      director_name  num_critic_for_reviews  duration  \\\n",
       "0  Color      James Cameron                   723.0     178.0   \n",
       "1  Color     Gore Verbinski                   302.0     169.0   \n",
       "2  Color         Sam Mendes                   602.0     148.0   \n",
       "3  Color  Christopher Nolan                   813.0     164.0   \n",
       "4    NaN        Doug Walker                     NaN       NaN   \n",
       "\n",
       "   director_facebook_likes  actor_3_facebook_likes      actor_2_name  \\\n",
       "0                      0.0                   855.0  Joel David Moore   \n",
       "1                    563.0                  1000.0     Orlando Bloom   \n",
       "2                      0.0                   161.0      Rory Kinnear   \n",
       "3                  22000.0                 23000.0    Christian Bale   \n",
       "4                    131.0                     NaN        Rob Walker   \n",
       "\n",
       "   actor_1_facebook_likes        gross                           genres  ...  \\\n",
       "0                  1000.0  760505847.0  Action|Adventure|Fantasy|Sci-Fi  ...   \n",
       "1                 40000.0  309404152.0         Action|Adventure|Fantasy  ...   \n",
       "2                 11000.0  200074175.0        Action|Adventure|Thriller  ...   \n",
       "3                 27000.0  448130642.0                  Action|Thriller  ...   \n",
       "4                   131.0          NaN                      Documentary  ...   \n",
       "\n",
       "  num_user_for_reviews language  country  content_rating       budget  \\\n",
       "0               3054.0  English      USA           PG-13  237000000.0   \n",
       "1               1238.0  English      USA           PG-13  300000000.0   \n",
       "2                994.0  English       UK           PG-13  245000000.0   \n",
       "3               2701.0  English      USA           PG-13  250000000.0   \n",
       "4                  NaN      NaN      NaN             NaN          NaN   \n",
       "\n",
       "   title_year actor_2_facebook_likes imdb_score  aspect_ratio  \\\n",
       "0      2009.0                  936.0        7.9          1.78   \n",
       "1      2007.0                 5000.0        7.1          2.35   \n",
       "2      2015.0                  393.0        6.8          2.35   \n",
       "3      2012.0                23000.0        8.5          2.35   \n",
       "4         NaN                   12.0        7.1           NaN   \n",
       "\n",
       "  movie_facebook_likes  \n",
       "0                33000  \n",
       "1                    0  \n",
       "2                85000  \n",
       "3               164000  \n",
       "4                    0  \n",
       "\n",
       "[5 rows x 28 columns]"
      ]
     },
     "execution_count": 51,
     "metadata": {},
     "output_type": "execute_result"
    }
   ],
   "source": [
    "def read(DataFrame):\n",
    "    imdb = pd.read_csv(DataFrame)\n",
    "    return imdb\n",
    "\n",
    "read(DataFrame).head()"
   ]
  },
  {
   "cell_type": "markdown",
   "metadata": {},
   "source": [
    "### 2. Set up function\n",
    "\n",
    "Selecciono aquellas columnas que considero importantes para mi análisis. \n",
    "\n",
    "Cabe destacar que no he seleccionado las columnas con información de actores por pelicula debido a que en un vistazo rápido se ha visto que faltan datos importantes sobre esta columna en el dataset."
   ]
  },
  {
   "cell_type": "code",
   "execution_count": 31,
   "metadata": {},
   "outputs": [],
   "source": [
    "def set_up(imdb):\n",
    "    colnames = ['movie_title', 'country', 'title_year', 'duration', 'genres',\n",
    "                'budget', 'gross', 'director_name' ,'imdb_score' , 'num_voted_users']\n",
    "    imdb = pd.DataFrame(imdb, columns=colnames)\n",
    "    return imdb"
   ]
  },
  {
   "cell_type": "markdown",
   "metadata": {},
   "source": [
    "### 3. Cleaning function\n",
    "\n",
    "Esta fase presenta los siguientes procesos:\n",
    "\n",
    "- Ordeno los valores por valoración del público para una mejor visualización. \n",
    "- Limpio los posibles elementos duplicados y los valores nulos del dataset. \n",
    "- Cambio la tipología de algunas columnas para convertirlas a enteros y redondeo otras para dejar solo un elemento decimal en el float.\n",
    "- Calculo máximos y minimos para ver cual sería un mínimo de votación aceptable para incluír una película y lo sitúo en este minimo más de 5000 votos, por lo que elimino todas aquellas con la función drop que tengan menos de 5000 votos.\n",
    "- Por último realizo un drop para eliminar aquellas películas que hayan tenido un presupuesto y unos beneficios menores a 100k US$ y se hayan producido fuera de USA."
   ]
  },
  {
   "cell_type": "code",
   "execution_count": 32,
   "metadata": {},
   "outputs": [],
   "source": [
    "def data_cleaning(imdb):\n",
    "    imdb = imdb.sort_values(by='imdb_score', ascending=False)\n",
    "    imdb = imdb.drop_duplicates(subset=['movie_title', 'title_year']).dropna()\n",
    "    imdb['duration'] = imdb['duration'].astype(int)\n",
    "    imdb['title_year'] = imdb['title_year'].astype(int)\n",
    "    imdb['budget'] = imdb['budget'].round(1)\n",
    "    imdb['gross'] = imdb['gross'].round(1)\n",
    "    imdb['num_voted_users'] = imdb['num_voted_users'].round(1)\n",
    "    imdb = imdb.drop(imdb[imdb['num_voted_users']<5000].index)\n",
    "    imdb = imdb.drop(imdb[imdb['budget']<100000].index)\n",
    "    imdb = imdb.drop(imdb[imdb['gross']<100000].index)\n",
    "    imdb = imdb.drop(imdb[imdb['country']!='USA'].index)\n",
    "    return imdb"
   ]
  },
  {
   "cell_type": "markdown",
   "metadata": {},
   "source": [
    "### 4. Data wrangling\n",
    "\n",
    "En esta fase:\n",
    "\n",
    "- Convierto a Mn tanto las columnas de budget como de gross y las renombro.\n",
    "- Paso a miles la volumna de votos de usuario y la renombro.\n",
    "- Elimino las columnas antiguas que ya no hacen falta al crear las nuevas.\n",
    "- Creo una columna de multiplicador de retorno de beneficio de cada película basado en las columnas de gross revenue y budget.\n"
   ]
  },
  {
   "cell_type": "code",
   "execution_count": 33,
   "metadata": {},
   "outputs": [],
   "source": [
    "def data_wrangling(imdb):\n",
    "    imdb['Budget (US$ Mn)'] = (imdb['budget']/(10**6))\n",
    "    imdb['Gross Revenue (US$ Mn)'] = (imdb['gross']/(10**6))\n",
    "    imdb['Total votes (k)'] = (imdb['num_voted_users']/(10**3))\n",
    "    imdb.drop(['gross', 'budget', 'num_voted_users'], axis='columns', inplace=True)\n",
    "    imdb['Gross Profit (x)'] = (imdb['Gross Revenue (US$ Mn)']/imdb['Budget (US$ Mn)'])\n",
    "    imdb['Gross Profit (x)'] = imdb['Gross Profit (x)'].round(2)\n",
    "    return imdb"
   ]
  },
  {
   "cell_type": "markdown",
   "metadata": {},
   "source": [
    "### 5. Data binning\n",
    "\n",
    "Clasificamos las columnas en bins dependiendo de su duración. En esta clasificacion tenemos:\n",
    "- Peliculas con duración menor a 90 minutos.\n",
    "- Peliculas con duración entre 90 minutos y dos horas.\n",
    "- Peliculas con duración entre dos horas y dos horas y media.\n",
    "- Peliculas de duración mayor a dos horas y media."
   ]
  },
  {
   "cell_type": "code",
   "execution_count": 34,
   "metadata": {},
   "outputs": [],
   "source": [
    "def data_binning(imdb):\n",
    "    bins=[0, 90, 120, 150, 500]\n",
    "    group_names=['Less than 90 min', 'Between 90 and 120 min', \n",
    "             'Between 120 and 150 min', 'More than 150 min']\n",
    "    imdb['Duration range']=pd.cut(imdb['duration'], bins, labels=group_names)\n",
    "    imdb = imdb.drop(columns=['duration'])\n",
    "    return imdb"
   ]
  },
  {
   "cell_type": "markdown",
   "metadata": {},
   "source": [
    "### 6. Data embellish\n",
    "\n",
    "Ordenamos finalmente las columnas y les asignamos nombres finales de cara a su presentación en gráficas. Como posteriormente llamaremos a la API algunos de estos campos los tendremos luego que volver a modificar para que finalmente quede el DataFrame con el aspecto deseado."
   ]
  },
  {
   "cell_type": "code",
   "execution_count": 35,
   "metadata": {},
   "outputs": [],
   "source": [
    "def data_embellish(imdb):\n",
    "    column_order = ['movie_title', 'title_year', 'country', 'genres', 'Duration range',\n",
    "                    'director_name', 'imdb_score', 'Total votes (k)', 'Budget (US$ Mn)',\n",
    "                   'Gross Revenue (US$ Mn)', 'Gross Profit (x)']\n",
    "    imdb = imdb[column_order]\n",
    "    imdb.rename(columns={'movie_title':'Title'}, inplace=True)\n",
    "    imdb.rename(columns={'title_year':'Year'}, inplace=True)\n",
    "    imdb.rename(columns={'country':'Country'}, inplace=True)\n",
    "    imdb.rename(columns={'genres':'Genre'}, inplace=True)\n",
    "    imdb.rename(columns={'director_name':'Director'}, inplace=True)\n",
    "    imdb.rename(columns={'imdb_score':'Score'}, inplace=True)\n",
    "    return imdb"
   ]
  },
  {
   "cell_type": "markdown",
   "metadata": {},
   "source": [
    "### 7. API call\n",
    "\n",
    "Llamamos a la API para conseguir el \"Consumer Price Index\" y así poder poner todos los Budget a precios de 2019.\n",
    "\n",
    "El link de la API es: https://www.quandl.com/data/RATEINF/CPI_USA-Consumer-Price-Index-USA\n",
    "\n",
    "Obtenemos el CPI trimestral desde 1917 cuya base 100 se situa entre 1982 y 1984. Procesaremos estos datos para convertirlos en media anual y a su vez actualizaremos su base a 1 en el año 2019 para así actualizar a US$ de 2019 simplemente dividiendo entre la columna que queramos actualizar."
   ]
  },
  {
   "cell_type": "code",
   "execution_count": 5,
   "metadata": {
    "scrolled": false
   },
   "outputs": [],
   "source": [
    "token=open(\".env\").read()\n",
    "\n",
    "def API_input(token):\n",
    "    CPI_index = quandl.get(\"RATEINF/CPI_USA\", authtoken=token)\n",
    "    CPI_index.head()\n",
    "    CPI_index = CPI_index.resample('Y').mean()\n",
    "    CPI_index['Date YYYY'] = CPI_index.index\n",
    "    CPI_index = CPI_index.reset_index()\n",
    "    CPI_index['Year Date'] = CPI_index['Date YYYY'].map(lambda x: x.year)\n",
    "    colnames=['Year Date', 'Value']\n",
    "    CPI_index = pd.DataFrame(CPI_index, columns=colnames)\n",
    "    CPI_index['Value'] = CPI_index['Value']/CPI_index['Value'][106]\n",
    "    return CPI_index"
   ]
  },
  {
   "cell_type": "markdown",
   "metadata": {},
   "source": [
    "### 8. API merge and final cleaning\n",
    "\n",
    "Combinamos el dataframe obtenido de la API con el dataset IMDB para así ya poder aplicar el CPI a las columnas de budget y gross profit y tener estos datos normalizados a 2019."
   ]
  },
  {
   "cell_type": "code",
   "execution_count": 37,
   "metadata": {},
   "outputs": [],
   "source": [
    "def merge(imdb, CPI_index):\n",
    "    imdb = imdb.merge(CPI_index, left_on='Year', right_on='Year Date')\n",
    "    imdb['Budget (US$ Mn)'] = imdb['Budget (US$ Mn)']/imdb['Value']\n",
    "    imdb['Gross Profit (x)'] = imdb['Gross Profit (x)']/imdb['Value']\n",
    "    imdb['Budget (US$ Mn)'] = imdb['Budget (US$ Mn)'].round(2)\n",
    "    imdb['Gross Profit (x)'] = imdb['Gross Profit (x)'].round(2)\n",
    "    imdb['Gross Revenue (US$ Mn)'] = imdb['Gross Revenue (US$ Mn)'].round(2)\n",
    "    imdb['Total votes (k)'] = imdb['Total votes (k)'].round(1)\n",
    "    imdb['Gross Profit (x)'] = (imdb['Gross Revenue (US$ Mn)']/imdb['Budget (US$ Mn)'])\n",
    "    imdb['Gross Profit (x)'] = imdb['Gross Profit (x)'].round(2)\n",
    "    imdb = imdb.drop(columns=['Value'])\n",
    "    imdb = imdb.drop(columns=['Year Date'])\n",
    "    imdb = imdb.sort_values(by='Score', ascending=False)\n",
    "    return imdb"
   ]
  },
  {
   "cell_type": "markdown",
   "metadata": {},
   "source": [
    "### 9. Save"
   ]
  },
  {
   "cell_type": "markdown",
   "metadata": {},
   "source": [
    "Defino una función para guardar el archivo y poder tener en un csv los datos limpios."
   ]
  },
  {
   "cell_type": "code",
   "execution_count": 53,
   "metadata": {},
   "outputs": [],
   "source": [
    "def toCSV(imdb):\n",
    "    imdb.to_csv('Dataset procesado.csv')"
   ]
  },
  {
   "cell_type": "code",
   "execution_count": 54,
   "metadata": {},
   "outputs": [
    {
     "data": {
      "text/html": [
       "<div>\n",
       "<style scoped>\n",
       "    .dataframe tbody tr th:only-of-type {\n",
       "        vertical-align: middle;\n",
       "    }\n",
       "\n",
       "    .dataframe tbody tr th {\n",
       "        vertical-align: top;\n",
       "    }\n",
       "\n",
       "    .dataframe thead th {\n",
       "        text-align: right;\n",
       "    }\n",
       "</style>\n",
       "<table border=\"1\" class=\"dataframe\">\n",
       "  <thead>\n",
       "    <tr style=\"text-align: right;\">\n",
       "      <th></th>\n",
       "      <th>Title</th>\n",
       "      <th>Year</th>\n",
       "      <th>Country</th>\n",
       "      <th>Genre</th>\n",
       "      <th>Duration range</th>\n",
       "      <th>Director</th>\n",
       "      <th>Score</th>\n",
       "      <th>Total votes (k)</th>\n",
       "      <th>Budget (US$ Mn)</th>\n",
       "      <th>Gross Revenue (US$ Mn)</th>\n",
       "      <th>Gross Profit (x)</th>\n",
       "    </tr>\n",
       "  </thead>\n",
       "  <tbody>\n",
       "    <tr>\n",
       "      <th>0</th>\n",
       "      <td>The Shawshank Redemption</td>\n",
       "      <td>1994</td>\n",
       "      <td>USA</td>\n",
       "      <td>Crime|Drama</td>\n",
       "      <td>Between 120 and 150 min</td>\n",
       "      <td>Frank Darabont</td>\n",
       "      <td>9.3</td>\n",
       "      <td>1689.8</td>\n",
       "      <td>42.65</td>\n",
       "      <td>28.34</td>\n",
       "      <td>0.66</td>\n",
       "    </tr>\n",
       "    <tr>\n",
       "      <th>40</th>\n",
       "      <td>The Godfather</td>\n",
       "      <td>1972</td>\n",
       "      <td>USA</td>\n",
       "      <td>Crime|Drama</td>\n",
       "      <td>More than 150 min</td>\n",
       "      <td>Francis Ford Coppola</td>\n",
       "      <td>9.2</td>\n",
       "      <td>1155.8</td>\n",
       "      <td>36.29</td>\n",
       "      <td>134.82</td>\n",
       "      <td>3.72</td>\n",
       "    </tr>\n",
       "    <tr>\n",
       "      <th>171</th>\n",
       "      <td>The Godfather: Part II</td>\n",
       "      <td>1974</td>\n",
       "      <td>USA</td>\n",
       "      <td>Crime|Drama</td>\n",
       "      <td>More than 150 min</td>\n",
       "      <td>Francis Ford Coppola</td>\n",
       "      <td>9.0</td>\n",
       "      <td>790.9</td>\n",
       "      <td>66.68</td>\n",
       "      <td>57.30</td>\n",
       "      <td>0.86</td>\n",
       "    </tr>\n",
       "    <tr>\n",
       "      <th>41</th>\n",
       "      <td>The Dark Knight</td>\n",
       "      <td>2008</td>\n",
       "      <td>USA</td>\n",
       "      <td>Action|Crime|Drama|Thriller</td>\n",
       "      <td>More than 150 min</td>\n",
       "      <td>Christopher Nolan</td>\n",
       "      <td>9.0</td>\n",
       "      <td>1676.2</td>\n",
       "      <td>217.30</td>\n",
       "      <td>533.32</td>\n",
       "      <td>2.45</td>\n",
       "    </tr>\n",
       "    <tr>\n",
       "      <th>174</th>\n",
       "      <td>The Lord of the Rings: The Return of the King</td>\n",
       "      <td>2003</td>\n",
       "      <td>USA</td>\n",
       "      <td>Action|Adventure|Drama|Fantasy</td>\n",
       "      <td>More than 150 min</td>\n",
       "      <td>Peter Jackson</td>\n",
       "      <td>8.9</td>\n",
       "      <td>1215.7</td>\n",
       "      <td>129.23</td>\n",
       "      <td>377.02</td>\n",
       "      <td>2.92</td>\n",
       "    </tr>\n",
       "  </tbody>\n",
       "</table>\n",
       "</div>"
      ],
      "text/plain": [
       "                                              Title  Year Country  \\\n",
       "0                         The Shawshank Redemption   1994     USA   \n",
       "40                                   The Godfather   1972     USA   \n",
       "171                         The Godfather: Part II   1974     USA   \n",
       "41                                 The Dark Knight   2008     USA   \n",
       "174  The Lord of the Rings: The Return of the King   2003     USA   \n",
       "\n",
       "                              Genre           Duration range  \\\n",
       "0                       Crime|Drama  Between 120 and 150 min   \n",
       "40                      Crime|Drama        More than 150 min   \n",
       "171                     Crime|Drama        More than 150 min   \n",
       "41      Action|Crime|Drama|Thriller        More than 150 min   \n",
       "174  Action|Adventure|Drama|Fantasy        More than 150 min   \n",
       "\n",
       "                 Director  Score  Total votes (k)  Budget (US$ Mn)  \\\n",
       "0          Frank Darabont    9.3           1689.8            42.65   \n",
       "40   Francis Ford Coppola    9.2           1155.8            36.29   \n",
       "171  Francis Ford Coppola    9.0            790.9            66.68   \n",
       "41      Christopher Nolan    9.0           1676.2           217.30   \n",
       "174         Peter Jackson    8.9           1215.7           129.23   \n",
       "\n",
       "     Gross Revenue (US$ Mn)  Gross Profit (x)  \n",
       "0                     28.34              0.66  \n",
       "40                   134.82              3.72  \n",
       "171                   57.30              0.86  \n",
       "41                   533.32              2.45  \n",
       "174                  377.02              2.92  "
      ]
     },
     "execution_count": 54,
     "metadata": {},
     "output_type": "execute_result"
    }
   ],
   "source": [
    "run = read(DataFrame)\n",
    "CPI_index = API_input(token)\n",
    "imdb = set_up(run)\n",
    "imdb = data_cleaning(imdb)\n",
    "imdb = data_wrangling(imdb)\n",
    "imdb = data_binning(imdb)\n",
    "imdb = data_embellish(imdb)\n",
    "imdb = merge(imdb, CPI_index)\n",
    "\n",
    "imdb.head()"
   ]
  },
  {
   "cell_type": "markdown",
   "metadata": {},
   "source": [
    "### 10. Plots"
   ]
  },
  {
   "cell_type": "markdown",
   "metadata": {},
   "source": [
    "Esta función nos devolverá en formato de gráfica la cantidad total de películas que tienen una duración determinada en porcentaje. Esta gráfica así como las siguientes se mostrarán y se guardaran en la carpeta donde tenemos el archivo."
   ]
  },
  {
   "cell_type": "code",
   "execution_count": 39,
   "metadata": {},
   "outputs": [],
   "source": [
    "def plot_genre(imdb):\n",
    "    category_data= imdb.Genre.str.split('|', expand=True).stack().value_counts(0)/len(imdb)*100\n",
    "    category_data = category_data.round(1)\n",
    "    plot_genre=category_data.head(5).plot('bar') \n",
    "    plt.title(\"Total movies by genre in %\")\n",
    "    plt.savefig('Plot by genres')\n"
   ]
  },
  {
   "cell_type": "markdown",
   "metadata": {},
   "source": [
    "Esta función nos devolverá la cantidad total de películas que tienen una duración determinada. "
   ]
  },
  {
   "cell_type": "code",
   "execution_count": 40,
   "metadata": {},
   "outputs": [],
   "source": [
    "def plot_bins(imdb):\n",
    "    v = imdb['Duration range'].value_counts()\n",
    "    v.plot('bar')\n",
    "    plt.title(\"Movie duration bins\")\n",
    "    plt.savefig('Plot by movies duration')\n"
   ]
  },
  {
   "cell_type": "markdown",
   "metadata": {},
   "source": [
    "Esta función nos devolverá una gráfica con la cantidad de peliculas que tenemos en el dataframe por año. "
   ]
  },
  {
   "cell_type": "code",
   "execution_count": 41,
   "metadata": {},
   "outputs": [],
   "source": [
    "def plot_yearVSmovies(imdb):\n",
    "    imdb2=imdb.drop(imdb[imdb['Year']<1970].index)\n",
    "    imdb2=imdb2.drop(imdb[imdb['Year']>2015].index)\n",
    "    plot_yearVSmovies = imdb2.groupby('Year').count()['Title'].plot(xticks = np.arange(1970,2016,5))\n",
    "\n",
    "    sns.set(rc={'figure.figsize':(10,5)})\n",
    "    plt.title(\"Year Vs Number of Movies\",fontsize = 14)\n",
    "    plt.xlabel('Release year',fontsize = 13)\n",
    "    plt.ylabel('Number of Movies',fontsize = 13)\n",
    "    plt.ylim(0,140)\n",
    "\n",
    "    sns.set_style(\"whitegrid\")\n",
    "    plt.savefig('Relation movies by year')\n"
   ]
  },
  {
   "cell_type": "markdown",
   "metadata": {},
   "source": [
    "Esta función nos devolverá una gráfica con la media de votos por pelicula por años."
   ]
  },
  {
   "cell_type": "code",
   "execution_count": 42,
   "metadata": {},
   "outputs": [],
   "source": [
    "def plot_yearVSvotes(imdb):\n",
    "    imdb.groupby('Year').mean()['Total votes (k)'].plot(xticks = np.arange(1940,2016,5))\n",
    "\n",
    "    sns.set(rc={'figure.figsize':(10,5)})\n",
    "    plt.title(\"Year Vs Average # of votes\",fontsize = 14)\n",
    "    plt.xlabel('Release year',fontsize = 13)\n",
    "    plt.ylabel('# of votes',fontsize = 13)\n",
    "\n",
    "    plot_yearVSvotes = sns.set_style(\"whitegrid\")\n",
    "    plt.savefig('Relation years and mean votes')\n"
   ]
  },
  {
   "cell_type": "markdown",
   "metadata": {},
   "source": [
    "Esta función nos devolverá las 10 películas con mayor presupuesto. "
   ]
  },
  {
   "cell_type": "code",
   "execution_count": 43,
   "metadata": {},
   "outputs": [],
   "source": [
    "def plot_top10budget(imdb):\n",
    "    info = pd.DataFrame(imdb['Budget (US$ Mn)'].sort_values(ascending = False))\n",
    "    info['Title'] = imdb['Title']\n",
    "    data = list(map(str,(info['Title'])))\n",
    "\n",
    "    x = list(data[:10])\n",
    "    y = list(info['Budget (US$ Mn)'][:10])\n",
    "\n",
    "    ax = sns.pointplot(x=y,y=x)\n",
    "    sns.set(rc={'figure.figsize':(10,5)})\n",
    "    ax.set_title(\"Top 10 High Budget Movies\",fontsize = 15)\n",
    "    ax.set_xlabel(\"Budget (US$ Mn)\",fontsize = 13)\n",
    "    plot_top10budget = sns.set_style(\"whitegrid\")\n",
    "    plt.savefig('Top 10 movies by budget')\n"
   ]
  },
  {
   "cell_type": "markdown",
   "metadata": {},
   "source": [
    "Esta función nos devolverá las 10 películas con menor valoración. "
   ]
  },
  {
   "cell_type": "code",
   "execution_count": 44,
   "metadata": {},
   "outputs": [],
   "source": [
    "def plot_worsttop10(imdb):\n",
    "    info = pd.DataFrame(imdb['Score'].sort_values(ascending = True))\n",
    "    info['Title'] = imdb['Title']\n",
    "    data = list(map(str,(info['Title'])))\n",
    "\n",
    "    x = list(data[:10])\n",
    "    y = list(info['Score'][:10])\n",
    "\n",
    "    ax = sns.pointplot(x=y,y=x)\n",
    "    sns.set(rc={'figure.figsize':(10,5)})\n",
    "    ax.set_title(\"Top 10 less voted movies\",fontsize = 15)\n",
    "    ax.set_xlabel(\"Score\",fontsize = 13)\n",
    "    plot_top10budget = sns.set_style(\"whitegrid\")\n",
    "    plt.savefig('Top 10 less voted movies')\n"
   ]
  },
  {
   "cell_type": "markdown",
   "metadata": {},
   "source": [
    "Esta función nos devolverá la tabla con la correlación entre la valoración de una pelicula y el presupuesto invertido en ella. "
   ]
  },
  {
   "cell_type": "code",
   "execution_count": 45,
   "metadata": {},
   "outputs": [],
   "source": [
    "def plot_corr_coreVSbudget(imdb):\n",
    "    ax = sns.regplot(x=imdb['Score'], y=imdb['Budget (US$ Mn)'],color='c')\n",
    "\n",
    "    ax.set_title(\"Score Vs Budget correlation\",fontsize=13)\n",
    "    ax.set_xlabel(\"Score\",fontsize=12)\n",
    "    ax.set_ylabel(\"Budget\",fontsize=12)\n",
    "\n",
    "    sns.set(rc={'figure.figsize':(6,4)})\n",
    "    sns.set_style(\"whitegrid\")\n",
    "\n",
    "    imdb['Budget (US$ Mn)'] =imdb['Budget (US$ Mn)'].replace(0,np.NAN)\n",
    "    imdb['Score'] =imdb['Score'].replace(0,np.NAN)\n",
    "\n",
    "    data_corr = imdb.corr()\n",
    "    print(\"Correlation Between Score And Budget : \",data_corr.loc['Score','Budget (US$ Mn)'])\n",
    "    plt.savefig('Correlation between budget and score')\n"
   ]
  },
  {
   "cell_type": "markdown",
   "metadata": {},
   "source": [
    "### Categories"
   ]
  },
  {
   "cell_type": "markdown",
   "metadata": {},
   "source": [
    "Mediante las siguientes dos funciones obtenemos:\n",
    "\n",
    "- En la primera llamada categorizer un ranking de directores según un parametro a definir entre valoración media de sus películas (Score), número total de títulos en el DataFrame (Title), presupuesto medio de sus películas (Budget) y profit medio de sus peliculas en base a un multiplicador obtenido entre dividir el total de revenue de sus peliculas entre el presupuesto.\n",
    "- En la función categorizer obtenermos una serie de datos del director que introduzcamos por pantalla en formato tabla  detallado por pelicula (valoración de la pelicula, nombre, presupuesto gastado y multiplicador de beneficio).\n",
    "\n",
    "Cabe destacar en el ranking que para poder visualizar la información lo más correctamente posible solo se admiten directores con un número de peliculas mayor a cinco para poder eliminar a estos directores que hayan triunfado con su opera prima pero luego no hayan continuado una carrera en el cine."
   ]
  },
  {
   "cell_type": "code",
   "execution_count": 46,
   "metadata": {},
   "outputs": [],
   "source": [
    "def categorizer(imdb):\n",
    "    print(\"Selecciona una categoría para ordenar los directores. \\n Categorías: Score, Title, Budget (US$ Mn), Gross Profit (x)\")\n",
    "    categoria = input()\n",
    "\n",
    "    imdb_directors = imdb.groupby('Director', as_index=False).agg({\"Score\": \"mean\", 'Title':'count', 'Budget (US$ Mn)':'mean', 'Gross Profit (x)':'mean'})\n",
    "    imdb_directors = imdb_directors.drop(imdb_directors[imdb_directors['Title']<5].index)\n",
    "    imdb_directors = imdb_directors.sort_values(by='{}'.format(categoria), ascending=False)\n",
    "    imdb_directors = imdb_directors.round(1)\n",
    "    output1 = imdb_directors.head(10)\n",
    "    return output1"
   ]
  },
  {
   "cell_type": "code",
   "execution_count": 47,
   "metadata": {},
   "outputs": [],
   "source": [
    "def director(imdb):\n",
    "    print(\"Selecciona una director para conocer su filmografía.\")\n",
    "    director = input()\n",
    "    output2 = imdb.loc[imdb['Director']=='{}'.format(director),['Score', 'Title', 'Budget (US$ Mn)', 'Gross Profit (x)']]\n",
    "    return output2"
   ]
  },
  {
   "cell_type": "code",
   "execution_count": null,
   "metadata": {},
   "outputs": [],
   "source": []
  }
 ],
 "metadata": {
  "kernelspec": {
   "display_name": "Python 3",
   "language": "python",
   "name": "python3"
  },
  "language_info": {
   "codemirror_mode": {
    "name": "ipython",
    "version": 3
   },
   "file_extension": ".py",
   "mimetype": "text/x-python",
   "name": "python",
   "nbconvert_exporter": "python",
   "pygments_lexer": "ipython3",
   "version": "3.7.3"
  }
 },
 "nbformat": 4,
 "nbformat_minor": 2
}
