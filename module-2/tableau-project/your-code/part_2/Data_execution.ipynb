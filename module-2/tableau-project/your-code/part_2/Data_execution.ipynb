{
 "cells": [
  {
   "cell_type": "code",
   "execution_count": 1,
   "metadata": {},
   "outputs": [],
   "source": [
    "from pymongo import MongoClient\n",
    "import pandas as pd\n",
    "from pandas.io.json import json_normalize"
   ]
  },
  {
   "cell_type": "markdown",
   "metadata": {},
   "source": [
    "Importing new merged DataFrame.\n"
   ]
  },
  {
   "cell_type": "code",
   "execution_count": 2,
   "metadata": {},
   "outputs": [
    {
     "data": {
      "text/html": [
       "<div>\n",
       "<style scoped>\n",
       "    .dataframe tbody tr th:only-of-type {\n",
       "        vertical-align: middle;\n",
       "    }\n",
       "\n",
       "    .dataframe tbody tr th {\n",
       "        vertical-align: top;\n",
       "    }\n",
       "\n",
       "    .dataframe thead th {\n",
       "        text-align: right;\n",
       "    }\n",
       "</style>\n",
       "<table border=\"1\" class=\"dataframe\">\n",
       "  <thead>\n",
       "    <tr style=\"text-align: right;\">\n",
       "      <th></th>\n",
       "      <th>name</th>\n",
       "      <th>founded_year</th>\n",
       "      <th>category_code</th>\n",
       "      <th>number_of_employees</th>\n",
       "      <th>rounds</th>\n",
       "      <th>total_raised_MnUSD</th>\n",
       "      <th>round_average_MnUSD</th>\n",
       "      <th>type: 1: startup, 2: small/mid corp, 3:big corp</th>\n",
       "      <th>latitude</th>\n",
       "      <th>longitude</th>\n",
       "      <th>geojson</th>\n",
       "    </tr>\n",
       "  </thead>\n",
       "  <tbody>\n",
       "    <tr>\n",
       "      <th>0</th>\n",
       "      <td>Geni</td>\n",
       "      <td>2006</td>\n",
       "      <td>web</td>\n",
       "      <td>18</td>\n",
       "      <td>3.0</td>\n",
       "      <td>16.5</td>\n",
       "      <td>5.5</td>\n",
       "      <td>2</td>\n",
       "      <td>34.090368</td>\n",
       "      <td>-118.393064</td>\n",
       "      <td>{'type': 'Point', 'coordinates': [-118.393064,...</td>\n",
       "    </tr>\n",
       "    <tr>\n",
       "      <th>1</th>\n",
       "      <td>Facebook</td>\n",
       "      <td>2004</td>\n",
       "      <td>social</td>\n",
       "      <td>5299</td>\n",
       "      <td>10.0</td>\n",
       "      <td>2325.7</td>\n",
       "      <td>232.6</td>\n",
       "      <td>3</td>\n",
       "      <td>37.416050</td>\n",
       "      <td>-122.151801</td>\n",
       "      <td>{'type': 'Point', 'coordinates': [-122.151801,...</td>\n",
       "    </tr>\n",
       "    <tr>\n",
       "      <th>2</th>\n",
       "      <td>Twitter</td>\n",
       "      <td>2006</td>\n",
       "      <td>social</td>\n",
       "      <td>1300</td>\n",
       "      <td>7.0</td>\n",
       "      <td>760.2</td>\n",
       "      <td>108.6</td>\n",
       "      <td>3</td>\n",
       "      <td>37.776805</td>\n",
       "      <td>-122.416924</td>\n",
       "      <td>{'type': 'Point', 'coordinates': [-122.4169244...</td>\n",
       "    </tr>\n",
       "    <tr>\n",
       "      <th>3</th>\n",
       "      <td>Plaxo</td>\n",
       "      <td>2002</td>\n",
       "      <td>web</td>\n",
       "      <td>50</td>\n",
       "      <td>4.0</td>\n",
       "      <td>28.3</td>\n",
       "      <td>7.1</td>\n",
       "      <td>2</td>\n",
       "      <td>37.387845</td>\n",
       "      <td>-122.055197</td>\n",
       "      <td>{'type': 'Point', 'coordinates': [-122.055197,...</td>\n",
       "    </tr>\n",
       "    <tr>\n",
       "      <th>4</th>\n",
       "      <td>Facebook</td>\n",
       "      <td>2004</td>\n",
       "      <td>social</td>\n",
       "      <td>5299</td>\n",
       "      <td>10.0</td>\n",
       "      <td>2325.7</td>\n",
       "      <td>232.6</td>\n",
       "      <td>3</td>\n",
       "      <td>40.755716</td>\n",
       "      <td>-73.979247</td>\n",
       "      <td>{'type': 'Point', 'coordinates': [-73.9792469,...</td>\n",
       "    </tr>\n",
       "  </tbody>\n",
       "</table>\n",
       "</div>"
      ],
      "text/plain": [
       "       name  founded_year category_code  number_of_employees  rounds  \\\n",
       "0      Geni          2006           web                   18     3.0   \n",
       "1  Facebook          2004        social                 5299    10.0   \n",
       "2   Twitter          2006        social                 1300     7.0   \n",
       "3     Plaxo          2002           web                   50     4.0   \n",
       "4  Facebook          2004        social                 5299    10.0   \n",
       "\n",
       "   total_raised_MnUSD  round_average_MnUSD  \\\n",
       "0                16.5                  5.5   \n",
       "1              2325.7                232.6   \n",
       "2               760.2                108.6   \n",
       "3                28.3                  7.1   \n",
       "4              2325.7                232.6   \n",
       "\n",
       "   type: 1: startup, 2: small/mid corp, 3:big corp   latitude   longitude  \\\n",
       "0                                                2  34.090368 -118.393064   \n",
       "1                                                3  37.416050 -122.151801   \n",
       "2                                                3  37.776805 -122.416924   \n",
       "3                                                2  37.387845 -122.055197   \n",
       "4                                                3  40.755716  -73.979247   \n",
       "\n",
       "                                             geojson  \n",
       "0  {'type': 'Point', 'coordinates': [-118.393064,...  \n",
       "1  {'type': 'Point', 'coordinates': [-122.151801,...  \n",
       "2  {'type': 'Point', 'coordinates': [-122.4169244...  \n",
       "3  {'type': 'Point', 'coordinates': [-122.055197,...  \n",
       "4  {'type': 'Point', 'coordinates': [-73.9792469,...  "
      ]
     },
     "execution_count": 2,
     "metadata": {},
     "output_type": "execute_result"
    }
   ],
   "source": [
    "client = MongoClient('localhost', 27017)\n",
    "collection = client['companies'].companies_v2\n",
    "data = pd.DataFrame(list(collection.find()))\n",
    "data = data[['name', 'founded_year', 'category_code', 'number_of_employees', 'rounds', 'total_raised_MnUSD', 'round_average_MnUSD', \n",
    "             'type: 1: startup, 2: small/mid corp, 3:big corp', 'latitude', 'longitude', 'geojson']]\n",
    "data.head()"
   ]
  },
  {
   "cell_type": "markdown",
   "metadata": {},
   "source": [
    "Defining a function geo query to get number of near companies of each company (3km around).\n"
   ]
  },
  {
   "cell_type": "code",
   "execution_count": 3,
   "metadata": {},
   "outputs": [],
   "source": [
    "def get_near_companies(geojson):\n",
    "    nearcomps = pd.DataFrame(list(collection.find(\n",
    "        {'geojson': \n",
    "         { '$near': \n",
    "          {'$geometry': geojson, '$maxDistance': 3000}}}, \n",
    "        {'name'})))\n",
    "    return len(nearcomps)\n"
   ]
  },
  {
   "cell_type": "markdown",
   "metadata": {},
   "source": [
    "Function geo query to get the sum of the total number employees of the companies around each company of the DataFrame.\n"
   ]
  },
  {
   "cell_type": "code",
   "execution_count": 4,
   "metadata": {},
   "outputs": [],
   "source": [
    "def get_near_employees(geojson):\n",
    "    nearemps = pd.DataFrame(list(collection.find(\n",
    "        {'geojson': \n",
    "         { '$near': \n",
    "          {'$geometry': geojson, '$maxDistance': 3000}}})))\n",
    "    return sum(nearemps['number_of_employees'])\n"
   ]
  },
  {
   "cell_type": "markdown",
   "metadata": {},
   "source": [
    "Function to get ratio startup/big corp of each company of DataFrame. This is a special ratio where equal number of startups for each big corp is valued at '2'.\n"
   ]
  },
  {
   "cell_type": "code",
   "execution_count": 5,
   "metadata": {},
   "outputs": [],
   "source": [
    "def get_ratio(geojson):\n",
    "    ratio = pd.DataFrame(list(collection.find(\n",
    "        {'geojson': \n",
    "         { '$near': \n",
    "          {'$geometry': geojson, '$maxDistance': 3000}}})))\n",
    "    return sum(ratio['type: 1: startup, 2: small/mid corp, 3:big corp'])/len(ratio)\n"
   ]
  },
  {
   "cell_type": "markdown",
   "metadata": {},
   "source": [
    "Function to get ratio startup/big corp of each company of DataFrame. This is a special ratio where equal number of startups for each big corp is valued at '2'."
   ]
  },
  {
   "cell_type": "code",
   "execution_count": 6,
   "metadata": {},
   "outputs": [],
   "source": [
    "def get_investments(geojson, tipo=1):\n",
    "    investments = pd.DataFrame(list(collection.find(\n",
    "        {'geojson': \n",
    "         { '$near': \n",
    "          {'$geometry': geojson, '$maxDistance': 3000}}})))\n",
    "    investments = investments[investments['type: 1: startup, 2: small/mid corp, 3:big corp']==1]    \n",
    "    return investments.total_raised_MnUSD.sum()"
   ]
  },
  {
   "cell_type": "markdown",
   "metadata": {},
   "source": [
    "Calling all functions."
   ]
  },
  {
   "cell_type": "code",
   "execution_count": 7,
   "metadata": {},
   "outputs": [],
   "source": [
    "data['near_companies'] = data['geojson'].apply(lambda x: get_near_companies(x))\n",
    "data['employees'] = data['geojson'].apply(lambda x: get_near_employees(x))\n",
    "data['ratio'] = data['geojson'].apply(lambda x: get_ratio(x))\n",
    "data['investments'] = data['geojson'].apply(lambda x: get_investments(x))"
   ]
  },
  {
   "cell_type": "markdown",
   "metadata": {},
   "source": [
    "Here we drop all the points with less than 50 companies around and we create the column ratio2 with the distance to the startup/big corp ratio desired. \n"
   ]
  },
  {
   "cell_type": "code",
   "execution_count": 8,
   "metadata": {},
   "outputs": [
    {
     "name": "stderr",
     "output_type": "stream",
     "text": [
      "/usr/local/Cellar/ipython/7.4.0/libexec/vendor/lib/python3.7/site-packages/ipykernel_launcher.py:3: SettingWithCopyWarning: \n",
      "A value is trying to be set on a copy of a slice from a DataFrame.\n",
      "Try using .loc[row_indexer,col_indexer] = value instead\n",
      "\n",
      "See the caveats in the documentation: http://pandas.pydata.org/pandas-docs/stable/indexing.html#indexing-view-versus-copy\n",
      "  This is separate from the ipykernel package so we can avoid doing imports until\n"
     ]
    }
   ],
   "source": [
    "min_near_companies = 20\n",
    "data_final = data[(data['near_companies'] > min_near_companies)]\n",
    "data_final['ratio_distance'] = ((data_final['ratio']-2)**2)**(1/2)"
   ]
  },
  {
   "cell_type": "markdown",
   "metadata": {},
   "source": [
    "Getting a new DataFrame with all values with a distance to perfect equallity of more than 1 points.\n",
    "\n",
    "1 point ratio distance means that # startups or # big corps doubles the other."
   ]
  },
  {
   "cell_type": "code",
   "execution_count": 9,
   "metadata": {},
   "outputs": [
    {
     "data": {
      "text/html": [
       "<div>\n",
       "<style scoped>\n",
       "    .dataframe tbody tr th:only-of-type {\n",
       "        vertical-align: middle;\n",
       "    }\n",
       "\n",
       "    .dataframe tbody tr th {\n",
       "        vertical-align: top;\n",
       "    }\n",
       "\n",
       "    .dataframe thead th {\n",
       "        text-align: right;\n",
       "    }\n",
       "</style>\n",
       "<table border=\"1\" class=\"dataframe\">\n",
       "  <thead>\n",
       "    <tr style=\"text-align: right;\">\n",
       "      <th></th>\n",
       "      <th>name</th>\n",
       "      <th>founded_year</th>\n",
       "      <th>category_code</th>\n",
       "      <th>number_of_employees</th>\n",
       "      <th>rounds</th>\n",
       "      <th>total_raised_MnUSD</th>\n",
       "      <th>round_average_MnUSD</th>\n",
       "      <th>type: 1: startup, 2: small/mid corp, 3:big corp</th>\n",
       "      <th>latitude</th>\n",
       "      <th>longitude</th>\n",
       "      <th>geojson</th>\n",
       "      <th>near_companies</th>\n",
       "      <th>employees</th>\n",
       "      <th>ratio</th>\n",
       "      <th>investments</th>\n",
       "      <th>ratio_distance</th>\n",
       "    </tr>\n",
       "  </thead>\n",
       "  <tbody>\n",
       "    <tr>\n",
       "      <th>0</th>\n",
       "      <td>GoLark</td>\n",
       "      <td>2007</td>\n",
       "      <td>web</td>\n",
       "      <td>3</td>\n",
       "      <td>NaN</td>\n",
       "      <td>0.0</td>\n",
       "      <td>0.0</td>\n",
       "      <td>2</td>\n",
       "      <td>40.750800</td>\n",
       "      <td>-73.996122</td>\n",
       "      <td>{'type': 'Point', 'coordinates': [-73.996122, ...</td>\n",
       "      <td>43</td>\n",
       "      <td>6974</td>\n",
       "      <td>1.790698</td>\n",
       "      <td>54.0</td>\n",
       "      <td>0.209302</td>\n",
       "    </tr>\n",
       "    <tr>\n",
       "      <th>1</th>\n",
       "      <td>Hunch</td>\n",
       "      <td>2007</td>\n",
       "      <td>web</td>\n",
       "      <td>23</td>\n",
       "      <td>3.0</td>\n",
       "      <td>19.2</td>\n",
       "      <td>6.4</td>\n",
       "      <td>2</td>\n",
       "      <td>40.741179</td>\n",
       "      <td>-73.993182</td>\n",
       "      <td>{'type': 'Point', 'coordinates': [-73.993182, ...</td>\n",
       "      <td>43</td>\n",
       "      <td>7132</td>\n",
       "      <td>1.837209</td>\n",
       "      <td>48.4</td>\n",
       "      <td>0.162791</td>\n",
       "    </tr>\n",
       "    <tr>\n",
       "      <th>2</th>\n",
       "      <td>VISUALPLANT</td>\n",
       "      <td>2000</td>\n",
       "      <td>games_video</td>\n",
       "      <td>6</td>\n",
       "      <td>1.0</td>\n",
       "      <td>0.5</td>\n",
       "      <td>0.5</td>\n",
       "      <td>2</td>\n",
       "      <td>40.738476</td>\n",
       "      <td>-73.998726</td>\n",
       "      <td>{'type': 'Point', 'coordinates': [-73.998726, ...</td>\n",
       "      <td>43</td>\n",
       "      <td>7200</td>\n",
       "      <td>1.837209</td>\n",
       "      <td>48.4</td>\n",
       "      <td>0.162791</td>\n",
       "    </tr>\n",
       "    <tr>\n",
       "      <th>3</th>\n",
       "      <td>ChallengePost</td>\n",
       "      <td>2009</td>\n",
       "      <td>web</td>\n",
       "      <td>17</td>\n",
       "      <td>2.0</td>\n",
       "      <td>4.6</td>\n",
       "      <td>2.3</td>\n",
       "      <td>1</td>\n",
       "      <td>40.740804</td>\n",
       "      <td>-74.007170</td>\n",
       "      <td>{'type': 'Point', 'coordinates': [-74.00717, 4...</td>\n",
       "      <td>44</td>\n",
       "      <td>7110</td>\n",
       "      <td>1.840909</td>\n",
       "      <td>48.4</td>\n",
       "      <td>0.159091</td>\n",
       "    </tr>\n",
       "    <tr>\n",
       "      <th>4</th>\n",
       "      <td>Phreesia</td>\n",
       "      <td>2005</td>\n",
       "      <td>software</td>\n",
       "      <td>70</td>\n",
       "      <td>5.0</td>\n",
       "      <td>42.6</td>\n",
       "      <td>8.5</td>\n",
       "      <td>2</td>\n",
       "      <td>40.739794</td>\n",
       "      <td>-73.985878</td>\n",
       "      <td>{'type': 'Point', 'coordinates': [-73.985878, ...</td>\n",
       "      <td>43</td>\n",
       "      <td>7132</td>\n",
       "      <td>1.837209</td>\n",
       "      <td>48.4</td>\n",
       "      <td>0.162791</td>\n",
       "    </tr>\n",
       "  </tbody>\n",
       "</table>\n",
       "</div>"
      ],
      "text/plain": [
       "            name  founded_year category_code  number_of_employees  rounds  \\\n",
       "0         GoLark          2007           web                    3     NaN   \n",
       "1          Hunch          2007           web                   23     3.0   \n",
       "2    VISUALPLANT          2000   games_video                    6     1.0   \n",
       "3  ChallengePost          2009           web                   17     2.0   \n",
       "4       Phreesia          2005      software                   70     5.0   \n",
       "\n",
       "   total_raised_MnUSD  round_average_MnUSD  \\\n",
       "0                 0.0                  0.0   \n",
       "1                19.2                  6.4   \n",
       "2                 0.5                  0.5   \n",
       "3                 4.6                  2.3   \n",
       "4                42.6                  8.5   \n",
       "\n",
       "   type: 1: startup, 2: small/mid corp, 3:big corp   latitude  longitude  \\\n",
       "0                                                2  40.750800 -73.996122   \n",
       "1                                                2  40.741179 -73.993182   \n",
       "2                                                2  40.738476 -73.998726   \n",
       "3                                                1  40.740804 -74.007170   \n",
       "4                                                2  40.739794 -73.985878   \n",
       "\n",
       "                                             geojson  near_companies  \\\n",
       "0  {'type': 'Point', 'coordinates': [-73.996122, ...              43   \n",
       "1  {'type': 'Point', 'coordinates': [-73.993182, ...              43   \n",
       "2  {'type': 'Point', 'coordinates': [-73.998726, ...              43   \n",
       "3  {'type': 'Point', 'coordinates': [-74.00717, 4...              44   \n",
       "4  {'type': 'Point', 'coordinates': [-73.985878, ...              43   \n",
       "\n",
       "   employees     ratio  investments  ratio_distance  \n",
       "0       6974  1.790698         54.0        0.209302  \n",
       "1       7132  1.837209         48.4        0.162791  \n",
       "2       7200  1.837209         48.4        0.162791  \n",
       "3       7110  1.840909         48.4        0.159091  \n",
       "4       7132  1.837209         48.4        0.162791  "
      ]
     },
     "execution_count": 9,
     "metadata": {},
     "output_type": "execute_result"
    }
   ],
   "source": [
    "max_ratio_distance = 1\n",
    "data_final = data_final[(data_final['ratio_distance'] < max_ratio_distance)]\n",
    "data_final = data_final.sort_values(by='investments', ascending=False)\n",
    "data_final.index=range(len(data_final))\n",
    "data_final.head()"
   ]
  },
  {
   "cell_type": "markdown",
   "metadata": {},
   "source": [
    "Exporting the DataFrame to a CSV"
   ]
  },
  {
   "cell_type": "code",
   "execution_count": 10,
   "metadata": {},
   "outputs": [],
   "source": [
    "def toCSV(data):\n",
    "    data.to_csv('final.csv')\n",
    "\n",
    "toCSV(data_final)"
   ]
  },
  {
   "cell_type": "code",
   "execution_count": 11,
   "metadata": {},
   "outputs": [
    {
     "name": "stdout",
     "output_type": "stream",
     "text": [
      "<class 'pandas.core.frame.DataFrame'>\n",
      "RangeIndex: 111 entries, 0 to 110\n",
      "Data columns (total 16 columns):\n",
      "name                                               111 non-null object\n",
      "founded_year                                       111 non-null int64\n",
      "category_code                                      111 non-null object\n",
      "number_of_employees                                111 non-null int64\n",
      "rounds                                             100 non-null float64\n",
      "total_raised_MnUSD                                 111 non-null float64\n",
      "round_average_MnUSD                                111 non-null float64\n",
      "type: 1: startup, 2: small/mid corp, 3:big corp    111 non-null int64\n",
      "latitude                                           111 non-null float64\n",
      "longitude                                          111 non-null float64\n",
      "geojson                                            111 non-null object\n",
      "near_companies                                     111 non-null int64\n",
      "employees                                          111 non-null int64\n",
      "ratio                                              111 non-null float64\n",
      "investments                                        111 non-null float64\n",
      "ratio_distance                                     111 non-null float64\n",
      "dtypes: float64(8), int64(5), object(3)\n",
      "memory usage: 14.0+ KB\n"
     ]
    }
   ],
   "source": [
    "data_final.info()"
   ]
  }
 ],
 "metadata": {
  "kernelspec": {
   "display_name": "Python 3",
   "language": "python",
   "name": "python3"
  },
  "language_info": {
   "codemirror_mode": {
    "name": "ipython",
    "version": 3
   },
   "file_extension": ".py",
   "mimetype": "text/x-python",
   "name": "python",
   "nbconvert_exporter": "python",
   "pygments_lexer": "ipython3",
   "version": "3.7.3"
  }
 },
 "nbformat": 4,
 "nbformat_minor": 2
}
