{
 "cells": [
  {
   "cell_type": "markdown",
   "metadata": {},
   "source": [
    "#  Pandas project  - Jacobo Pintos outputs"
   ]
  },
  {
   "cell_type": "markdown",
   "metadata": {},
   "source": [
    "Con la información obtenida de ataques de tiburón en USA entre 1950 y 2016 vamos a responder a varias preguntas que son:\n",
    "\n",
    "    1. ¿En que zona de EEUU es donde más ataques de tiburón se registraron? \n",
    "    2. ¿Que porcentaje de estos ataques son mortales?\n",
    "    3. ¿Existe alguna diferencia en cuanto al sexo?"
   ]
  },
  {
   "cell_type": "code",
   "execution_count": 1,
   "metadata": {},
   "outputs": [],
   "source": [
    "import pandas as pd"
   ]
  },
  {
   "cell_type": "code",
   "execution_count": 2,
   "metadata": {},
   "outputs": [],
   "source": [
    "sharks_info = pd.read_csv('sharks.csv', encoding='ISO/8859/1')"
   ]
  },
  {
   "cell_type": "code",
   "execution_count": 3,
   "metadata": {},
   "outputs": [
    {
     "data": {
      "text/html": [
       "<div>\n",
       "<style scoped>\n",
       "    .dataframe tbody tr th:only-of-type {\n",
       "        vertical-align: middle;\n",
       "    }\n",
       "\n",
       "    .dataframe tbody tr th {\n",
       "        vertical-align: top;\n",
       "    }\n",
       "\n",
       "    .dataframe thead th {\n",
       "        text-align: right;\n",
       "    }\n",
       "</style>\n",
       "<table border=\"1\" class=\"dataframe\">\n",
       "  <thead>\n",
       "    <tr style=\"text-align: right;\">\n",
       "      <th></th>\n",
       "      <th>Year</th>\n",
       "      <th>Type</th>\n",
       "      <th>Country</th>\n",
       "      <th>US zone</th>\n",
       "      <th>Area</th>\n",
       "      <th>Sex</th>\n",
       "      <th>Age</th>\n",
       "      <th>Fatal Attack</th>\n",
       "    </tr>\n",
       "  </thead>\n",
       "  <tbody>\n",
       "    <tr>\n",
       "      <th>0</th>\n",
       "      <td>2016</td>\n",
       "      <td>Unprovoked</td>\n",
       "      <td>USA</td>\n",
       "      <td>SE coast</td>\n",
       "      <td>Florida</td>\n",
       "      <td>Male</td>\n",
       "      <td>16</td>\n",
       "      <td>No</td>\n",
       "    </tr>\n",
       "    <tr>\n",
       "      <th>1</th>\n",
       "      <td>2016</td>\n",
       "      <td>Unprovoked</td>\n",
       "      <td>USA</td>\n",
       "      <td>SE coast</td>\n",
       "      <td>Florida</td>\n",
       "      <td>Male</td>\n",
       "      <td>36</td>\n",
       "      <td>No</td>\n",
       "    </tr>\n",
       "    <tr>\n",
       "      <th>2</th>\n",
       "      <td>2016</td>\n",
       "      <td>Unprovoked</td>\n",
       "      <td>USA</td>\n",
       "      <td>SE coast</td>\n",
       "      <td>Florida</td>\n",
       "      <td>Male</td>\n",
       "      <td>43</td>\n",
       "      <td>No</td>\n",
       "    </tr>\n",
       "    <tr>\n",
       "      <th>3</th>\n",
       "      <td>2016</td>\n",
       "      <td>Unprovoked</td>\n",
       "      <td>USA</td>\n",
       "      <td>SE coast</td>\n",
       "      <td>Florida</td>\n",
       "      <td>Male</td>\n",
       "      <td>Uknown</td>\n",
       "      <td>No</td>\n",
       "    </tr>\n",
       "    <tr>\n",
       "      <th>4</th>\n",
       "      <td>2016</td>\n",
       "      <td>Unprovoked</td>\n",
       "      <td>USA</td>\n",
       "      <td>Pacific Islands</td>\n",
       "      <td>Hawaii</td>\n",
       "      <td>Female</td>\n",
       "      <td>51</td>\n",
       "      <td>No</td>\n",
       "    </tr>\n",
       "  </tbody>\n",
       "</table>\n",
       "</div>"
      ],
      "text/plain": [
       "   Year        Type Country          US zone     Area     Sex     Age  \\\n",
       "0  2016  Unprovoked     USA         SE coast  Florida    Male      16   \n",
       "1  2016  Unprovoked     USA         SE coast  Florida    Male      36   \n",
       "2  2016  Unprovoked     USA         SE coast  Florida    Male      43   \n",
       "3  2016  Unprovoked     USA         SE coast  Florida    Male  Uknown   \n",
       "4  2016  Unprovoked     USA  Pacific Islands   Hawaii  Female      51   \n",
       "\n",
       "  Fatal Attack  \n",
       "0           No  \n",
       "1           No  \n",
       "2           No  \n",
       "3           No  \n",
       "4           No  "
      ]
     },
     "execution_count": 3,
     "metadata": {},
     "output_type": "execute_result"
    }
   ],
   "source": [
    "sharks_info.head()"
   ]
  },
  {
   "cell_type": "markdown",
   "metadata": {},
   "source": [
    "## 1. ¿En que zona de EEUU es donde más ataques de tiburón se registraron? "
   ]
  },
  {
   "cell_type": "code",
   "execution_count": 4,
   "metadata": {},
   "outputs": [
    {
     "data": {
      "text/plain": [
       "SE coast              1101\n",
       "SW coast               224\n",
       "Pacific Islands        202\n",
       "NE coast                46\n",
       "NW coast                29\n",
       "Caribean Islands        11\n",
       "US Central               2\n",
       "Philippine Islands       1\n",
       "Name: US zone, dtype: int64"
      ]
     },
     "execution_count": 4,
     "metadata": {},
     "output_type": "execute_result"
    }
   ],
   "source": [
    "sharks_info['US zone'].value_counts()"
   ]
  },
  {
   "cell_type": "markdown",
   "metadata": {},
   "source": [
    "En la zona del South East de USA se registraron un total de 1101 ataques. "
   ]
  },
  {
   "cell_type": "code",
   "execution_count": 5,
   "metadata": {},
   "outputs": [
    {
     "data": {
      "text/plain": [
       "SE coast              68.131188\n",
       "SW coast              13.861386\n",
       "Pacific Islands       12.500000\n",
       "NE coast               2.846535\n",
       "NW coast               1.794554\n",
       "Caribean Islands       0.680693\n",
       "US Central             0.123762\n",
       "Philippine Islands     0.061881\n",
       "Name: US zone, dtype: float64"
      ]
     },
     "execution_count": 5,
     "metadata": {},
     "output_type": "execute_result"
    }
   ],
   "source": [
    "sharks_info['US zone'].value_counts(1)*100"
   ]
  },
  {
   "cell_type": "markdown",
   "metadata": {},
   "source": [
    "Estos 1101 ataques supusieron el 68% de todos los ataques en USA desde 1950. Si vemos que Area fue la que registró mas ataques."
   ]
  },
  {
   "cell_type": "code",
   "execution_count": 6,
   "metadata": {},
   "outputs": [
    {
     "data": {
      "text/plain": [
       "Florida           77.384196\n",
       "South Carolina     8.900999\n",
       "North Carolina     6.539510\n",
       "Texas              4.541326\n",
       "Alabama            0.999092\n",
       "Georgia            0.726612\n",
       "Louisiana          0.635786\n",
       "Mississippi        0.272480\n",
       "Name: Area, dtype: float64"
      ]
     },
     "execution_count": 6,
     "metadata": {},
     "output_type": "execute_result"
    }
   ],
   "source": [
    "SE_coast_info = sharks_info.drop(sharks_info[sharks_info['US zone']!='SE coast'].index)\n",
    "SE_coast_info['Area'].value_counts(1)*100"
   ]
  },
  {
   "cell_type": "markdown",
   "metadata": {},
   "source": [
    "Podemos ver como Florida es la zona de mayor influencia con un 77% de los ataques registrados. Podemos ver el peso porcentual de Florida vs el resto de Areas de USA."
   ]
  },
  {
   "cell_type": "code",
   "execution_count": 7,
   "metadata": {},
   "outputs": [
    {
     "data": {
      "text/plain": [
       "Florida           52.722772\n",
       "California        13.799505\n",
       "Hawaii            12.252475\n",
       "South Carolina     6.064356\n",
       "North Carolina     4.455446\n",
       "Name: Area, dtype: float64"
      ]
     },
     "execution_count": 7,
     "metadata": {},
     "output_type": "execute_result"
    }
   ],
   "source": [
    "sharks_info['Area'].value_counts(1).nlargest(5)*100"
   ]
  },
  {
   "cell_type": "markdown",
   "metadata": {},
   "source": [
    "Florida supone el 53% de los ataques de tiburón seguido en el top 3 de California con un 14% y Hawaii con un 12%."
   ]
  },
  {
   "cell_type": "markdown",
   "metadata": {},
   "source": [
    "## 2 ¿Que porcentaje los ataques registrados fueron mortales? ¿En que zona hay mayor indice de mortalidad por ataque?"
   ]
  },
  {
   "cell_type": "code",
   "execution_count": 8,
   "metadata": {},
   "outputs": [],
   "source": [
    "fatal_info = sharks_info.drop(sharks_info[sharks_info['Fatal Attack']!='Yes'].index)"
   ]
  },
  {
   "cell_type": "code",
   "execution_count": 9,
   "metadata": {},
   "outputs": [
    {
     "data": {
      "text/plain": [
       "Pacific Islands     25\n",
       "SE coast            23\n",
       "SW coast            15\n",
       "Caribean Islands     4\n",
       "NE coast             2\n",
       "Name: US zone, dtype: int64"
      ]
     },
     "execution_count": 9,
     "metadata": {},
     "output_type": "execute_result"
    }
   ],
   "source": [
    "fatal_info['US zone'].value_counts()"
   ]
  },
  {
   "cell_type": "code",
   "execution_count": 10,
   "metadata": {},
   "outputs": [],
   "source": [
    "fatal_info2 = fatal_info.drop(fatal_info[fatal_info['US zone']!='Pacific Islands'].index)"
   ]
  },
  {
   "cell_type": "code",
   "execution_count": 11,
   "metadata": {},
   "outputs": [
    {
     "data": {
      "text/plain": [
       "Hawaii    25\n",
       "Name: Area, dtype: int64"
      ]
     },
     "execution_count": 11,
     "metadata": {},
     "output_type": "execute_result"
    }
   ],
   "source": [
    "fatal_info2['Area'].value_counts()"
   ]
  },
  {
   "cell_type": "code",
   "execution_count": 12,
   "metadata": {},
   "outputs": [
    {
     "data": {
      "text/plain": [
       "Caribean Islands      36.363636\n",
       "NE coast               4.347826\n",
       "NW coast                    NaN\n",
       "Pacific Islands       12.376238\n",
       "Philippine Islands          NaN\n",
       "SE coast               2.089010\n",
       "SW coast               6.696429\n",
       "US Central                  NaN\n",
       "Name: US zone, dtype: float64"
      ]
     },
     "execution_count": 12,
     "metadata": {},
     "output_type": "execute_result"
    }
   ],
   "source": [
    "fatal_info['US zone'].value_counts()/sharks_info['US zone'].value_counts()*100"
   ]
  },
  {
   "cell_type": "markdown",
   "metadata": {},
   "source": [
    "La probabilidad de muerte por ataque de tiburón en el South East de USA es de un 2%, en cambio otras geografías relevantes como el South West tiene una probabilidad de casi el 7%. \n",
    "\n",
    "El porcentaje de mortalidad más alto lo tienen las Caribean Islands donde el 36% de los atacados por tiburón resultaron muertos (4/11). Con mayor relevancia debido al número de ataques nos encontramos con el caso de las islas del Pacifico donde 25 de los 202 casos registrados acabaron en muerte."
   ]
  },
  {
   "cell_type": "markdown",
   "metadata": {},
   "source": [
    "## 3. ¿Existe alguna diferencia entre los ataques provocados y no provocados en cuanto al sexo?"
   ]
  },
  {
   "cell_type": "code",
   "execution_count": 13,
   "metadata": {},
   "outputs": [],
   "source": [
    "gender_analysis = sharks_info.drop(sharks_info[sharks_info['Type']=='Boat'].index)\n",
    "gender_analysis = sharks_info.drop(sharks_info[sharks_info['Sex']=='Uknown'].index)"
   ]
  },
  {
   "cell_type": "code",
   "execution_count": 14,
   "metadata": {},
   "outputs": [],
   "source": [
    "Provoked_attacks = gender_analysis.drop(gender_analysis[gender_analysis['Type']=='Unprovoked'].index)"
   ]
  },
  {
   "cell_type": "code",
   "execution_count": 15,
   "metadata": {},
   "outputs": [
    {
     "data": {
      "text/plain": [
       "Male      93.710692\n",
       "Female     6.289308\n",
       "Name: Sex, dtype: float64"
      ]
     },
     "execution_count": 15,
     "metadata": {},
     "output_type": "execute_result"
    }
   ],
   "source": [
    "Provoked_attacks['Sex'].value_counts(1)*100"
   ]
  },
  {
   "cell_type": "code",
   "execution_count": 16,
   "metadata": {},
   "outputs": [],
   "source": [
    "Unprovoked_attaks = gender_analysis.drop(gender_analysis[gender_analysis['Type']=='Provoked'].index)"
   ]
  },
  {
   "cell_type": "code",
   "execution_count": 17,
   "metadata": {},
   "outputs": [
    {
     "data": {
      "text/plain": [
       "Male      81.889205\n",
       "Female    18.110795\n",
       "Name: Sex, dtype: float64"
      ]
     },
     "execution_count": 17,
     "metadata": {},
     "output_type": "execute_result"
    }
   ],
   "source": [
    "Unprovoked_attaks['Sex'].value_counts(1)*100"
   ]
  },
  {
   "cell_type": "markdown",
   "metadata": {},
   "source": [
    "Dejando a un lado el % de desconocidos, los hombres representan el 94% de los ataques de tiburones provocados mientras que las mujeres solo un 6%, en cambio si vemos los no provocados este porcentaje de mujeres se triplica hasta el 18% dejando el de hombres en un 82% lo que supone un cambio muy significativo."
   ]
  }
 ],
 "metadata": {
  "kernelspec": {
   "display_name": "Python 3",
   "language": "python",
   "name": "python3"
  },
  "language_info": {
   "codemirror_mode": {
    "name": "ipython",
    "version": 3
   },
   "file_extension": ".py",
   "mimetype": "text/x-python",
   "name": "python",
   "nbconvert_exporter": "python",
   "pygments_lexer": "ipython3",
   "version": "3.7.3"
  }
 },
 "nbformat": 4,
 "nbformat_minor": 2
}
