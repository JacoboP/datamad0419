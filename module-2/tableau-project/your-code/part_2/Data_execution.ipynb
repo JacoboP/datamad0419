{
 "cells": [
  {
   "cell_type": "code",
   "execution_count": 1,
   "metadata": {},
   "outputs": [],
   "source": [
    "from pymongo import MongoClient\n",
    "import pandas as pd\n",
    "from pandas.io.json import json_normalize"
   ]
  },
  {
   "cell_type": "markdown",
   "metadata": {},
   "source": [
    "Importing new merged DataFrame.\n"
   ]
  },
  {
   "cell_type": "code",
   "execution_count": 2,
   "metadata": {},
   "outputs": [
    {
     "data": {
      "text/html": [
       "<div>\n",
       "<style scoped>\n",
       "    .dataframe tbody tr th:only-of-type {\n",
       "        vertical-align: middle;\n",
       "    }\n",
       "\n",
       "    .dataframe tbody tr th {\n",
       "        vertical-align: top;\n",
       "    }\n",
       "\n",
       "    .dataframe thead th {\n",
       "        text-align: right;\n",
       "    }\n",
       "</style>\n",
       "<table border=\"1\" class=\"dataframe\">\n",
       "  <thead>\n",
       "    <tr style=\"text-align: right;\">\n",
       "      <th></th>\n",
       "      <th>name</th>\n",
       "      <th>founded_year</th>\n",
       "      <th>category_code</th>\n",
       "      <th>number_of_employees</th>\n",
       "      <th>rounds</th>\n",
       "      <th>total_raised_MnUSD</th>\n",
       "      <th>round_average_MnUSD</th>\n",
       "      <th>type: 1: startup, 2: small/mid corp, 3:big corp</th>\n",
       "      <th>latitude</th>\n",
       "      <th>longitude</th>\n",
       "      <th>geojson</th>\n",
       "    </tr>\n",
       "  </thead>\n",
       "  <tbody>\n",
       "    <tr>\n",
       "      <th>0</th>\n",
       "      <td>Geni</td>\n",
       "      <td>2006</td>\n",
       "      <td>web</td>\n",
       "      <td>18</td>\n",
       "      <td>3.0</td>\n",
       "      <td>16.5</td>\n",
       "      <td>5.5</td>\n",
       "      <td>2</td>\n",
       "      <td>34.090368</td>\n",
       "      <td>-118.393064</td>\n",
       "      <td>{'type': 'Point', 'coordinates': [-118.393064,...</td>\n",
       "    </tr>\n",
       "    <tr>\n",
       "      <th>1</th>\n",
       "      <td>Twitter</td>\n",
       "      <td>2006</td>\n",
       "      <td>social</td>\n",
       "      <td>1300</td>\n",
       "      <td>7.0</td>\n",
       "      <td>760.2</td>\n",
       "      <td>108.6</td>\n",
       "      <td>3</td>\n",
       "      <td>37.776805</td>\n",
       "      <td>-122.416924</td>\n",
       "      <td>{'type': 'Point', 'coordinates': [-122.4169244...</td>\n",
       "    </tr>\n",
       "    <tr>\n",
       "      <th>2</th>\n",
       "      <td>Facebook</td>\n",
       "      <td>2004</td>\n",
       "      <td>social</td>\n",
       "      <td>5299</td>\n",
       "      <td>10.0</td>\n",
       "      <td>2325.7</td>\n",
       "      <td>232.6</td>\n",
       "      <td>3</td>\n",
       "      <td>37.416050</td>\n",
       "      <td>-122.151801</td>\n",
       "      <td>{'type': 'Point', 'coordinates': [-122.151801,...</td>\n",
       "    </tr>\n",
       "    <tr>\n",
       "      <th>3</th>\n",
       "      <td>MeetMoi</td>\n",
       "      <td>2007</td>\n",
       "      <td>social</td>\n",
       "      <td>15</td>\n",
       "      <td>3.0</td>\n",
       "      <td>5.6</td>\n",
       "      <td>1.9</td>\n",
       "      <td>2</td>\n",
       "      <td>40.757929</td>\n",
       "      <td>-73.985506</td>\n",
       "      <td>{'type': 'Point', 'coordinates': [-73.985506, ...</td>\n",
       "    </tr>\n",
       "    <tr>\n",
       "      <th>4</th>\n",
       "      <td>Facebook</td>\n",
       "      <td>2004</td>\n",
       "      <td>social</td>\n",
       "      <td>5299</td>\n",
       "      <td>10.0</td>\n",
       "      <td>2325.7</td>\n",
       "      <td>232.6</td>\n",
       "      <td>3</td>\n",
       "      <td>40.755716</td>\n",
       "      <td>-73.979247</td>\n",
       "      <td>{'type': 'Point', 'coordinates': [-73.9792469,...</td>\n",
       "    </tr>\n",
       "  </tbody>\n",
       "</table>\n",
       "</div>"
      ],
      "text/plain": [
       "       name  founded_year category_code  number_of_employees  rounds  \\\n",
       "0      Geni          2006           web                   18     3.0   \n",
       "1   Twitter          2006        social                 1300     7.0   \n",
       "2  Facebook          2004        social                 5299    10.0   \n",
       "3   MeetMoi          2007        social                   15     3.0   \n",
       "4  Facebook          2004        social                 5299    10.0   \n",
       "\n",
       "   total_raised_MnUSD  round_average_MnUSD  \\\n",
       "0                16.5                  5.5   \n",
       "1               760.2                108.6   \n",
       "2              2325.7                232.6   \n",
       "3                 5.6                  1.9   \n",
       "4              2325.7                232.6   \n",
       "\n",
       "   type: 1: startup, 2: small/mid corp, 3:big corp   latitude   longitude  \\\n",
       "0                                                2  34.090368 -118.393064   \n",
       "1                                                3  37.776805 -122.416924   \n",
       "2                                                3  37.416050 -122.151801   \n",
       "3                                                2  40.757929  -73.985506   \n",
       "4                                                3  40.755716  -73.979247   \n",
       "\n",
       "                                             geojson  \n",
       "0  {'type': 'Point', 'coordinates': [-118.393064,...  \n",
       "1  {'type': 'Point', 'coordinates': [-122.4169244...  \n",
       "2  {'type': 'Point', 'coordinates': [-122.151801,...  \n",
       "3  {'type': 'Point', 'coordinates': [-73.985506, ...  \n",
       "4  {'type': 'Point', 'coordinates': [-73.9792469,...  "
      ]
     },
     "execution_count": 2,
     "metadata": {},
     "output_type": "execute_result"
    }
   ],
   "source": [
    "client = MongoClient('localhost', 27017)\n",
    "collection = client['companies'].companies_v2_2\n",
    "data = pd.DataFrame(list(collection.find()))\n",
    "data = data[['name', 'founded_year', 'category_code', 'number_of_employees', 'rounds', 'total_raised_MnUSD', 'round_average_MnUSD', \n",
    "             'type: 1: startup, 2: small/mid corp, 3:big corp', 'latitude', 'longitude', 'geojson']]\n",
    "data.head()"
   ]
  },
  {
   "cell_type": "markdown",
   "metadata": {},
   "source": [
    "Defining a function geo query to get number of near companies of each company (3km around).\n"
   ]
  },
  {
   "cell_type": "code",
   "execution_count": 3,
   "metadata": {},
   "outputs": [],
   "source": [
    "def get_near_companies(geojson):\n",
    "    nearcomps = pd.DataFrame(list(collection.find(\n",
    "        {'geojson': \n",
    "         { '$near': \n",
    "          {'$geometry': geojson, '$maxDistance': 3000}}}, \n",
    "        {'name'})))\n",
    "    return len(nearcomps)\n"
   ]
  },
  {
   "cell_type": "markdown",
   "metadata": {},
   "source": [
    "Function geo query to get the sum of the total number employees of the companies around each company of the DataFrame.\n"
   ]
  },
  {
   "cell_type": "code",
   "execution_count": 4,
   "metadata": {},
   "outputs": [],
   "source": [
    "def get_near_employees(geojson):\n",
    "    nearemps = pd.DataFrame(list(collection.find(\n",
    "        {'geojson': \n",
    "         { '$near': \n",
    "          {'$geometry': geojson, '$maxDistance': 3000}}})))\n",
    "    return sum(nearemps['number_of_employees'])\n"
   ]
  },
  {
   "cell_type": "markdown",
   "metadata": {},
   "source": [
    "Function to get ratio startup/big corp of each company of DataFrame. This is a special ratio where equal number of startups for each big corp is valued at '2'.\n"
   ]
  },
  {
   "cell_type": "code",
   "execution_count": 5,
   "metadata": {},
   "outputs": [],
   "source": [
    "def get_ratio(geojson):\n",
    "    ratio = pd.DataFrame(list(collection.find(\n",
    "        {'geojson': \n",
    "         { '$near': \n",
    "          {'$geometry': geojson, '$maxDistance': 3000}}})))\n",
    "    return sum(ratio['type: 1: startup, 2: small/mid corp, 3:big corp'])/len(ratio)\n"
   ]
  },
  {
   "cell_type": "markdown",
   "metadata": {},
   "source": [
    "Function to get ratio startup/big corp of each company of DataFrame. This is a special ratio where equal number of startups for each big corp is valued at '2'."
   ]
  },
  {
   "cell_type": "code",
   "execution_count": 6,
   "metadata": {},
   "outputs": [],
   "source": [
    "def get_investments(geojson, tipo=1):\n",
    "    investments = pd.DataFrame(list(collection.find(\n",
    "        {'geojson': \n",
    "         { '$near': \n",
    "          {'$geometry': geojson, '$maxDistance': 3000}}})))\n",
    "    investments = investments[investments['type: 1: startup, 2: small/mid corp, 3:big corp']==1]    \n",
    "    return investments.total_raised_MnUSD.sum()"
   ]
  },
  {
   "cell_type": "markdown",
   "metadata": {},
   "source": [
    "Calling all functions."
   ]
  },
  {
   "cell_type": "code",
   "execution_count": 7,
   "metadata": {},
   "outputs": [],
   "source": [
    "data['near_companies'] = data['geojson'].apply(lambda x: get_near_companies(x))\n",
    "data['employees'] = data['geojson'].apply(lambda x: get_near_employees(x))\n",
    "data['ratio'] = data['geojson'].apply(lambda x: get_ratio(x))\n",
    "data['investments'] = data['geojson'].apply(lambda x: get_investments(x))"
   ]
  },
  {
   "cell_type": "markdown",
   "metadata": {},
   "source": [
    "Here we drop all the points with less than 50 companies around and we create the column ratio2 with the distance to the startup/big corp ratio desired. \n"
   ]
  },
  {
   "cell_type": "code",
   "execution_count": 8,
   "metadata": {},
   "outputs": [
    {
     "name": "stderr",
     "output_type": "stream",
     "text": [
      "/usr/local/Cellar/ipython/7.4.0/libexec/vendor/lib/python3.7/site-packages/ipykernel_launcher.py:3: SettingWithCopyWarning: \n",
      "A value is trying to be set on a copy of a slice from a DataFrame.\n",
      "Try using .loc[row_indexer,col_indexer] = value instead\n",
      "\n",
      "See the caveats in the documentation: http://pandas.pydata.org/pandas-docs/stable/indexing.html#indexing-view-versus-copy\n",
      "  This is separate from the ipykernel package so we can avoid doing imports until\n"
     ]
    }
   ],
   "source": [
    "min_near_companies = 20\n",
    "data_final = data[(data['near_companies'] > min_near_companies)]\n",
    "data_final['ratio_distance'] = ((data_final['ratio']-2)**2)**(1/2)"
   ]
  },
  {
   "cell_type": "markdown",
   "metadata": {},
   "source": [
    "Getting a new DataFrame with all values with a distance to perfect equallity of more than 0.2 points."
   ]
  },
  {
   "cell_type": "code",
   "execution_count": 9,
   "metadata": {},
   "outputs": [
    {
     "data": {
      "text/html": [
       "<div>\n",
       "<style scoped>\n",
       "    .dataframe tbody tr th:only-of-type {\n",
       "        vertical-align: middle;\n",
       "    }\n",
       "\n",
       "    .dataframe tbody tr th {\n",
       "        vertical-align: top;\n",
       "    }\n",
       "\n",
       "    .dataframe thead th {\n",
       "        text-align: right;\n",
       "    }\n",
       "</style>\n",
       "<table border=\"1\" class=\"dataframe\">\n",
       "  <thead>\n",
       "    <tr style=\"text-align: right;\">\n",
       "      <th></th>\n",
       "      <th>name</th>\n",
       "      <th>founded_year</th>\n",
       "      <th>category_code</th>\n",
       "      <th>number_of_employees</th>\n",
       "      <th>rounds</th>\n",
       "      <th>total_raised_MnUSD</th>\n",
       "      <th>round_average_MnUSD</th>\n",
       "      <th>type: 1: startup, 2: small/mid corp, 3:big corp</th>\n",
       "      <th>latitude</th>\n",
       "      <th>longitude</th>\n",
       "      <th>geojson</th>\n",
       "      <th>near_companies</th>\n",
       "      <th>employees</th>\n",
       "      <th>ratio</th>\n",
       "      <th>investments</th>\n",
       "      <th>ratio_distance</th>\n",
       "    </tr>\n",
       "  </thead>\n",
       "  <tbody>\n",
       "    <tr>\n",
       "      <th>0</th>\n",
       "      <td>Twitter</td>\n",
       "      <td>2006</td>\n",
       "      <td>social</td>\n",
       "      <td>1300</td>\n",
       "      <td>7.0</td>\n",
       "      <td>760.2</td>\n",
       "      <td>108.6</td>\n",
       "      <td>3</td>\n",
       "      <td>37.776805</td>\n",
       "      <td>-122.416924</td>\n",
       "      <td>{'type': 'Point', 'coordinates': [-122.4169244...</td>\n",
       "      <td>68</td>\n",
       "      <td>4969</td>\n",
       "      <td>1.941176</td>\n",
       "      <td>37.1</td>\n",
       "      <td>0.058824</td>\n",
       "    </tr>\n",
       "    <tr>\n",
       "      <th>1</th>\n",
       "      <td>Tagged</td>\n",
       "      <td>2004</td>\n",
       "      <td>social</td>\n",
       "      <td>162</td>\n",
       "      <td>4.0</td>\n",
       "      <td>23.7</td>\n",
       "      <td>5.9</td>\n",
       "      <td>2</td>\n",
       "      <td>37.775300</td>\n",
       "      <td>-122.418600</td>\n",
       "      <td>{'type': 'Point', 'coordinates': [-122.4186, 3...</td>\n",
       "      <td>66</td>\n",
       "      <td>4949</td>\n",
       "      <td>1.939394</td>\n",
       "      <td>37.1</td>\n",
       "      <td>0.060606</td>\n",
       "    </tr>\n",
       "    <tr>\n",
       "      <th>2</th>\n",
       "      <td>GuardianEdge Technologies</td>\n",
       "      <td>2002</td>\n",
       "      <td>software</td>\n",
       "      <td>85</td>\n",
       "      <td>2.0</td>\n",
       "      <td>16.0</td>\n",
       "      <td>8.0</td>\n",
       "      <td>2</td>\n",
       "      <td>37.778613</td>\n",
       "      <td>-122.395289</td>\n",
       "      <td>{'type': 'Point', 'coordinates': [-122.395289,...</td>\n",
       "      <td>66</td>\n",
       "      <td>4956</td>\n",
       "      <td>1.939394</td>\n",
       "      <td>37.1</td>\n",
       "      <td>0.060606</td>\n",
       "    </tr>\n",
       "    <tr>\n",
       "      <th>3</th>\n",
       "      <td>GitHub</td>\n",
       "      <td>2008</td>\n",
       "      <td>software</td>\n",
       "      <td>106</td>\n",
       "      <td>1.0</td>\n",
       "      <td>100.0</td>\n",
       "      <td>100.0</td>\n",
       "      <td>3</td>\n",
       "      <td>37.775196</td>\n",
       "      <td>-122.419204</td>\n",
       "      <td>{'type': 'Point', 'coordinates': [-122.419204,...</td>\n",
       "      <td>66</td>\n",
       "      <td>4949</td>\n",
       "      <td>1.939394</td>\n",
       "      <td>37.1</td>\n",
       "      <td>0.060606</td>\n",
       "    </tr>\n",
       "    <tr>\n",
       "      <th>4</th>\n",
       "      <td>Three Rings</td>\n",
       "      <td>2001</td>\n",
       "      <td>web</td>\n",
       "      <td>30</td>\n",
       "      <td>2.0</td>\n",
       "      <td>7.0</td>\n",
       "      <td>3.5</td>\n",
       "      <td>2</td>\n",
       "      <td>37.775196</td>\n",
       "      <td>-122.419204</td>\n",
       "      <td>{'type': 'Point', 'coordinates': [-122.419204,...</td>\n",
       "      <td>66</td>\n",
       "      <td>4949</td>\n",
       "      <td>1.939394</td>\n",
       "      <td>37.1</td>\n",
       "      <td>0.060606</td>\n",
       "    </tr>\n",
       "  </tbody>\n",
       "</table>\n",
       "</div>"
      ],
      "text/plain": [
       "                        name  founded_year category_code  number_of_employees  \\\n",
       "0                    Twitter          2006        social                 1300   \n",
       "1                     Tagged          2004        social                  162   \n",
       "2  GuardianEdge Technologies          2002      software                   85   \n",
       "3                     GitHub          2008      software                  106   \n",
       "4                Three Rings          2001           web                   30   \n",
       "\n",
       "   rounds  total_raised_MnUSD  round_average_MnUSD  \\\n",
       "0     7.0               760.2                108.6   \n",
       "1     4.0                23.7                  5.9   \n",
       "2     2.0                16.0                  8.0   \n",
       "3     1.0               100.0                100.0   \n",
       "4     2.0                 7.0                  3.5   \n",
       "\n",
       "   type: 1: startup, 2: small/mid corp, 3:big corp   latitude   longitude  \\\n",
       "0                                                3  37.776805 -122.416924   \n",
       "1                                                2  37.775300 -122.418600   \n",
       "2                                                2  37.778613 -122.395289   \n",
       "3                                                3  37.775196 -122.419204   \n",
       "4                                                2  37.775196 -122.419204   \n",
       "\n",
       "                                             geojson  near_companies  \\\n",
       "0  {'type': 'Point', 'coordinates': [-122.4169244...              68   \n",
       "1  {'type': 'Point', 'coordinates': [-122.4186, 3...              66   \n",
       "2  {'type': 'Point', 'coordinates': [-122.395289,...              66   \n",
       "3  {'type': 'Point', 'coordinates': [-122.419204,...              66   \n",
       "4  {'type': 'Point', 'coordinates': [-122.419204,...              66   \n",
       "\n",
       "   employees     ratio  investments  ratio_distance  \n",
       "0       4969  1.941176         37.1        0.058824  \n",
       "1       4949  1.939394         37.1        0.060606  \n",
       "2       4956  1.939394         37.1        0.060606  \n",
       "3       4949  1.939394         37.1        0.060606  \n",
       "4       4949  1.939394         37.1        0.060606  "
      ]
     },
     "execution_count": 9,
     "metadata": {},
     "output_type": "execute_result"
    }
   ],
   "source": [
    "max_ratio_distance = 0.2\n",
    "data_final = data_final[(data_final['ratio_distance'] < max_ratio_distance)]\n",
    "data_final = data_final.sort_values(by='investments', ascending=False)\n",
    "data_final.index=range(len(data_final))\n",
    "data_final.head()\n"
   ]
  },
  {
   "cell_type": "markdown",
   "metadata": {},
   "source": [
    "Exporting the DataFrame to a CSV"
   ]
  },
  {
   "cell_type": "code",
   "execution_count": 10,
   "metadata": {},
   "outputs": [],
   "source": [
    "def toCSV(data):\n",
    "    data.to_csv('final.csv')\n",
    "\n",
    "toCSV(data_final)"
   ]
  },
  {
   "cell_type": "code",
   "execution_count": 11,
   "metadata": {},
   "outputs": [
    {
     "name": "stdout",
     "output_type": "stream",
     "text": [
      "<class 'pandas.core.frame.DataFrame'>\n",
      "RangeIndex: 111 entries, 0 to 110\n",
      "Data columns (total 16 columns):\n",
      "name                                               111 non-null object\n",
      "founded_year                                       111 non-null int64\n",
      "category_code                                      111 non-null object\n",
      "number_of_employees                                111 non-null int64\n",
      "rounds                                             100 non-null float64\n",
      "total_raised_MnUSD                                 111 non-null float64\n",
      "round_average_MnUSD                                111 non-null float64\n",
      "type: 1: startup, 2: small/mid corp, 3:big corp    111 non-null int64\n",
      "latitude                                           111 non-null float64\n",
      "longitude                                          111 non-null float64\n",
      "geojson                                            111 non-null object\n",
      "near_companies                                     111 non-null int64\n",
      "employees                                          111 non-null int64\n",
      "ratio                                              111 non-null float64\n",
      "investments                                        111 non-null float64\n",
      "ratio_distance                                     111 non-null float64\n",
      "dtypes: float64(8), int64(5), object(3)\n",
      "memory usage: 14.0+ KB\n"
     ]
    }
   ],
   "source": [
    "data_final.info()"
   ]
  },
  {
   "cell_type": "code",
   "execution_count": null,
   "metadata": {},
   "outputs": [],
   "source": []
  },
  {
   "cell_type": "code",
   "execution_count": null,
   "metadata": {},
   "outputs": [],
   "source": []
  }
 ],
 "metadata": {
  "kernelspec": {
   "display_name": "Python 3",
   "language": "python",
   "name": "python3"
  },
  "language_info": {
   "codemirror_mode": {
    "name": "ipython",
    "version": 3
   },
   "file_extension": ".py",
   "mimetype": "text/x-python",
   "name": "python",
   "nbconvert_exporter": "python",
   "pygments_lexer": "ipython3",
   "version": "3.7.3"
  }
 },
 "nbformat": 4,
 "nbformat_minor": 2
}
