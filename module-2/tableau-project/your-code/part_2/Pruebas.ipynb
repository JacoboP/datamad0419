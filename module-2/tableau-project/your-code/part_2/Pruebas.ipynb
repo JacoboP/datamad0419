{
 "cells": [
  {
   "cell_type": "code",
   "execution_count": 4,
   "metadata": {},
   "outputs": [
    {
     "data": {
      "text/html": [
       "<div>\n",
       "<style scoped>\n",
       "    .dataframe tbody tr th:only-of-type {\n",
       "        vertical-align: middle;\n",
       "    }\n",
       "\n",
       "    .dataframe tbody tr th {\n",
       "        vertical-align: top;\n",
       "    }\n",
       "\n",
       "    .dataframe thead th {\n",
       "        text-align: right;\n",
       "    }\n",
       "</style>\n",
       "<table border=\"1\" class=\"dataframe\">\n",
       "  <thead>\n",
       "    <tr style=\"text-align: right;\">\n",
       "      <th></th>\n",
       "      <th>__funded_year</th>\n",
       "      <th>__raised_amount</th>\n",
       "      <th>__raised_currency_code</th>\n",
       "      <th>__round_code</th>\n",
       "      <th>funded_year</th>\n",
       "      <th>round_code</th>\n",
       "      <th>raised_amount</th>\n",
       "      <th>raised_currency_code</th>\n",
       "    </tr>\n",
       "  </thead>\n",
       "  <tbody>\n",
       "  </tbody>\n",
       "</table>\n",
       "</div>"
      ],
      "text/plain": [
       "Empty DataFrame\n",
       "Columns: [__funded_year, __raised_amount, __raised_currency_code, __round_code, funded_year, round_code, raised_amount, raised_currency_code]\n",
       "Index: []"
      ]
     },
     "execution_count": 4,
     "metadata": {},
     "output_type": "execute_result"
    }
   ],
   "source": [
    "# Libraries used\n",
    "from pymongo import MongoClient\n",
    "import pandas as pd\n",
    "from pandas.io.json import json_normalize\n",
    "client = MongoClient ('localhost', 27017) \n",
    "db = client['companies']\n",
    "cursor2 = db.companies.find({'$and': \n",
    "                             [{'founded_year': {'$gt': 1950}},\n",
    "                              {'number_of_employees': {'$gt': 1}},\n",
    "                              {'deadpooled_year': {'$eq': None}},\n",
    "                              {'offices.latitude': {'$exists': True,'$ne': None}},\n",
    "                              {'offices.longitude': {'$exists': True,'$ne': None}},\n",
    "                              \n",
    "                        {'$or': \n",
    "                               [{'category_code':'games_video'},\n",
    "                                {'category_code':'software'},\n",
    "                                {'category_code':'web'},\n",
    "                               {'category_code':'social'}]\n",
    "                        }]}\n",
    "                            ,{'name':1, 'category_code':1, 'founded_year': 1, '_id': 0, 'number_of_employees':1, \n",
    "                              'offices.latitude':1, 'offices.longitude':1, 'offices.zip_code':1, 'ipo':1, \n",
    "                              'deadpooled_year':1, 'category_code':1, 'funding_rounds.funded_year':1, \n",
    "                              'funding_rounds.round_code':1, 'funding_rounds.raised_amount':1, \n",
    "                              'funding_rounds.raised_currency_code':1}) \n",
    "\n",
    "data = json_normalize(data = cursor2, record_path = 'funding_rounds', meta = ['funded_year', 'round_code', \n",
    "                                                                              'raised_amount', 'raised_currency_code'], \n",
    "                      errors='ignore', record_prefix='__')\n",
    "data = data.dropna()\n",
    "data.head()\n",
    "\n"
   ]
  },
  {
   "cell_type": "code",
   "execution_count": null,
   "metadata": {},
   "outputs": [],
   "source": []
  },
  {
   "cell_type": "code",
   "execution_count": null,
   "metadata": {},
   "outputs": [],
   "source": [
    "{'funding_rounds.funded_year': {'$exists': True, '$ne': None}},\n",
    "                              {'funding_rounds.round_code': {'$exists': True, '$ne': None}},\n",
    "                              {'funding_rounds.raised_amount': {'$exists': True, '$ne': None}},\n",
    "                              {'funding_rounds.raised_currency_code': {'$exists': True, '$ne': None}},"
   ]
  },
  {
   "cell_type": "code",
   "execution_count": null,
   "metadata": {},
   "outputs": [],
   "source": []
  }
 ],
 "metadata": {
  "kernelspec": {
   "display_name": "Python 3",
   "language": "python",
   "name": "python3"
  },
  "language_info": {
   "codemirror_mode": {
    "name": "ipython",
    "version": 3
   },
   "file_extension": ".py",
   "mimetype": "text/x-python",
   "name": "python",
   "nbconvert_exporter": "python",
   "pygments_lexer": "ipython3",
   "version": "3.7.3"
  }
 },
 "nbformat": 4,
 "nbformat_minor": 2
}
