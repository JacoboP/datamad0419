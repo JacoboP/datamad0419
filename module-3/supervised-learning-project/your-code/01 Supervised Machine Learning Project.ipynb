{
 "cells": [
  {
   "cell_type": "code",
   "execution_count": 1,
   "metadata": {},
   "outputs": [],
   "source": [
    "# Importanción de librerías utilizadas en el desarrollo del proyecto.\n",
    "\n",
    "%matplotlib inline\n",
    "\n",
    "import numpy as np\n",
    "import pandas as pd\n",
    "import seaborn as sns\n",
    "import matplotlib.pyplot as plt\n",
    "from sklearn.model_selection import train_test_split\n",
    "from sklearn.metrics import confusion_matrix, accuracy_score\n",
    "from sklearn.linear_model import LogisticRegression\n",
    "from sklearn.neighbors import KNeighborsClassifier\n",
    "from sklearn.ensemble import RandomForestClassifier\n",
    "from sklearn.multiclass import OneVsRestClassifier\n",
    "from sklearn.preprocessing import StandardScaler\n",
    "from sklearn import tree\n",
    "from sklearn import svm\n",
    "from sklearn.metrics import roc_curve\n",
    "from sklearn import metrics"
   ]
  },
  {
   "cell_type": "markdown",
   "metadata": {},
   "source": [
    "### Fase 1: Importación y análisis inicial del DataSet"
   ]
  },
  {
   "cell_type": "code",
   "execution_count": 2,
   "metadata": {},
   "outputs": [],
   "source": [
    "# Importanción del DataSet.\n",
    "\n",
    "shots = pd.read_csv('shot_logs.csv')"
   ]
  },
  {
   "cell_type": "code",
   "execution_count": 3,
   "metadata": {},
   "outputs": [
    {
     "data": {
      "text/html": [
       "<div>\n",
       "<style scoped>\n",
       "    .dataframe tbody tr th:only-of-type {\n",
       "        vertical-align: middle;\n",
       "    }\n",
       "\n",
       "    .dataframe tbody tr th {\n",
       "        vertical-align: top;\n",
       "    }\n",
       "\n",
       "    .dataframe thead th {\n",
       "        text-align: right;\n",
       "    }\n",
       "</style>\n",
       "<table border=\"1\" class=\"dataframe\">\n",
       "  <thead>\n",
       "    <tr style=\"text-align: right;\">\n",
       "      <th></th>\n",
       "      <th>GAME_ID</th>\n",
       "      <th>MATCHUP</th>\n",
       "      <th>LOCATION</th>\n",
       "      <th>W</th>\n",
       "      <th>FINAL_MARGIN</th>\n",
       "      <th>SHOT_NUMBER</th>\n",
       "      <th>PERIOD</th>\n",
       "      <th>GAME_CLOCK</th>\n",
       "      <th>SHOT_CLOCK</th>\n",
       "      <th>DRIBBLES</th>\n",
       "      <th>...</th>\n",
       "      <th>SHOT_DIST</th>\n",
       "      <th>PTS_TYPE</th>\n",
       "      <th>SHOT_RESULT</th>\n",
       "      <th>CLOSEST_DEFENDER</th>\n",
       "      <th>CLOSEST_DEFENDER_PLAYER_ID</th>\n",
       "      <th>CLOSE_DEF_DIST</th>\n",
       "      <th>FGM</th>\n",
       "      <th>PTS</th>\n",
       "      <th>player_name</th>\n",
       "      <th>player_id</th>\n",
       "    </tr>\n",
       "  </thead>\n",
       "  <tbody>\n",
       "    <tr>\n",
       "      <th>0</th>\n",
       "      <td>21400899</td>\n",
       "      <td>MAR 04, 2015 - CHA @ BKN</td>\n",
       "      <td>A</td>\n",
       "      <td>W</td>\n",
       "      <td>24</td>\n",
       "      <td>1</td>\n",
       "      <td>1</td>\n",
       "      <td>1:09</td>\n",
       "      <td>10.8</td>\n",
       "      <td>2</td>\n",
       "      <td>...</td>\n",
       "      <td>7.7</td>\n",
       "      <td>2</td>\n",
       "      <td>made</td>\n",
       "      <td>Anderson, Alan</td>\n",
       "      <td>101187</td>\n",
       "      <td>1.3</td>\n",
       "      <td>1</td>\n",
       "      <td>2</td>\n",
       "      <td>brian roberts</td>\n",
       "      <td>203148</td>\n",
       "    </tr>\n",
       "    <tr>\n",
       "      <th>1</th>\n",
       "      <td>21400899</td>\n",
       "      <td>MAR 04, 2015 - CHA @ BKN</td>\n",
       "      <td>A</td>\n",
       "      <td>W</td>\n",
       "      <td>24</td>\n",
       "      <td>2</td>\n",
       "      <td>1</td>\n",
       "      <td>0:14</td>\n",
       "      <td>3.4</td>\n",
       "      <td>0</td>\n",
       "      <td>...</td>\n",
       "      <td>28.2</td>\n",
       "      <td>3</td>\n",
       "      <td>missed</td>\n",
       "      <td>Bogdanovic, Bojan</td>\n",
       "      <td>202711</td>\n",
       "      <td>6.1</td>\n",
       "      <td>0</td>\n",
       "      <td>0</td>\n",
       "      <td>brian roberts</td>\n",
       "      <td>203148</td>\n",
       "    </tr>\n",
       "    <tr>\n",
       "      <th>2</th>\n",
       "      <td>21400899</td>\n",
       "      <td>MAR 04, 2015 - CHA @ BKN</td>\n",
       "      <td>A</td>\n",
       "      <td>W</td>\n",
       "      <td>24</td>\n",
       "      <td>3</td>\n",
       "      <td>1</td>\n",
       "      <td>0:00</td>\n",
       "      <td>NaN</td>\n",
       "      <td>3</td>\n",
       "      <td>...</td>\n",
       "      <td>10.1</td>\n",
       "      <td>2</td>\n",
       "      <td>missed</td>\n",
       "      <td>Bogdanovic, Bojan</td>\n",
       "      <td>202711</td>\n",
       "      <td>0.9</td>\n",
       "      <td>0</td>\n",
       "      <td>0</td>\n",
       "      <td>brian roberts</td>\n",
       "      <td>203148</td>\n",
       "    </tr>\n",
       "    <tr>\n",
       "      <th>3</th>\n",
       "      <td>21400899</td>\n",
       "      <td>MAR 04, 2015 - CHA @ BKN</td>\n",
       "      <td>A</td>\n",
       "      <td>W</td>\n",
       "      <td>24</td>\n",
       "      <td>4</td>\n",
       "      <td>2</td>\n",
       "      <td>11:47</td>\n",
       "      <td>10.3</td>\n",
       "      <td>2</td>\n",
       "      <td>...</td>\n",
       "      <td>17.2</td>\n",
       "      <td>2</td>\n",
       "      <td>missed</td>\n",
       "      <td>Brown, Markel</td>\n",
       "      <td>203900</td>\n",
       "      <td>3.4</td>\n",
       "      <td>0</td>\n",
       "      <td>0</td>\n",
       "      <td>brian roberts</td>\n",
       "      <td>203148</td>\n",
       "    </tr>\n",
       "    <tr>\n",
       "      <th>4</th>\n",
       "      <td>21400899</td>\n",
       "      <td>MAR 04, 2015 - CHA @ BKN</td>\n",
       "      <td>A</td>\n",
       "      <td>W</td>\n",
       "      <td>24</td>\n",
       "      <td>5</td>\n",
       "      <td>2</td>\n",
       "      <td>10:34</td>\n",
       "      <td>10.9</td>\n",
       "      <td>2</td>\n",
       "      <td>...</td>\n",
       "      <td>3.7</td>\n",
       "      <td>2</td>\n",
       "      <td>missed</td>\n",
       "      <td>Young, Thaddeus</td>\n",
       "      <td>201152</td>\n",
       "      <td>1.1</td>\n",
       "      <td>0</td>\n",
       "      <td>0</td>\n",
       "      <td>brian roberts</td>\n",
       "      <td>203148</td>\n",
       "    </tr>\n",
       "  </tbody>\n",
       "</table>\n",
       "<p>5 rows × 21 columns</p>\n",
       "</div>"
      ],
      "text/plain": [
       "    GAME_ID                   MATCHUP LOCATION  W  FINAL_MARGIN  SHOT_NUMBER  \\\n",
       "0  21400899  MAR 04, 2015 - CHA @ BKN        A  W            24            1   \n",
       "1  21400899  MAR 04, 2015 - CHA @ BKN        A  W            24            2   \n",
       "2  21400899  MAR 04, 2015 - CHA @ BKN        A  W            24            3   \n",
       "3  21400899  MAR 04, 2015 - CHA @ BKN        A  W            24            4   \n",
       "4  21400899  MAR 04, 2015 - CHA @ BKN        A  W            24            5   \n",
       "\n",
       "   PERIOD GAME_CLOCK  SHOT_CLOCK  DRIBBLES  ...  SHOT_DIST  PTS_TYPE  \\\n",
       "0       1       1:09        10.8         2  ...        7.7         2   \n",
       "1       1       0:14         3.4         0  ...       28.2         3   \n",
       "2       1       0:00         NaN         3  ...       10.1         2   \n",
       "3       2      11:47        10.3         2  ...       17.2         2   \n",
       "4       2      10:34        10.9         2  ...        3.7         2   \n",
       "\n",
       "   SHOT_RESULT   CLOSEST_DEFENDER CLOSEST_DEFENDER_PLAYER_ID  CLOSE_DEF_DIST  \\\n",
       "0         made     Anderson, Alan                     101187             1.3   \n",
       "1       missed  Bogdanovic, Bojan                     202711             6.1   \n",
       "2       missed  Bogdanovic, Bojan                     202711             0.9   \n",
       "3       missed      Brown, Markel                     203900             3.4   \n",
       "4       missed    Young, Thaddeus                     201152             1.1   \n",
       "\n",
       "   FGM  PTS    player_name player_id  \n",
       "0    1    2  brian roberts    203148  \n",
       "1    0    0  brian roberts    203148  \n",
       "2    0    0  brian roberts    203148  \n",
       "3    0    0  brian roberts    203148  \n",
       "4    0    0  brian roberts    203148  \n",
       "\n",
       "[5 rows x 21 columns]"
      ]
     },
     "execution_count": 3,
     "metadata": {},
     "output_type": "execute_result"
    }
   ],
   "source": [
    "# Visualización del DataSet\n",
    "\n",
    "shots.head()"
   ]
  },
  {
   "cell_type": "code",
   "execution_count": 4,
   "metadata": {},
   "outputs": [
    {
     "data": {
      "text/plain": [
       "Index(['GAME_ID', 'MATCHUP', 'LOCATION', 'W', 'FINAL_MARGIN', 'SHOT_NUMBER',\n",
       "       'PERIOD', 'GAME_CLOCK', 'SHOT_CLOCK', 'DRIBBLES', 'TOUCH_TIME',\n",
       "       'SHOT_DIST', 'PTS_TYPE', 'SHOT_RESULT', 'CLOSEST_DEFENDER',\n",
       "       'CLOSEST_DEFENDER_PLAYER_ID', 'CLOSE_DEF_DIST', 'FGM', 'PTS',\n",
       "       'player_name', 'player_id'],\n",
       "      dtype='object')"
      ]
     },
     "execution_count": 4,
     "metadata": {},
     "output_type": "execute_result"
    }
   ],
   "source": [
    "# Visualización de los nombres de las columnas para su análisis\n",
    "\n",
    "shots.columns"
   ]
  },
  {
   "cell_type": "code",
   "execution_count": 5,
   "metadata": {},
   "outputs": [
    {
     "data": {
      "text/plain": [
       "GAME_ID                         int64\n",
       "MATCHUP                        object\n",
       "LOCATION                       object\n",
       "W                              object\n",
       "FINAL_MARGIN                    int64\n",
       "SHOT_NUMBER                     int64\n",
       "PERIOD                          int64\n",
       "GAME_CLOCK                     object\n",
       "SHOT_CLOCK                    float64\n",
       "DRIBBLES                        int64\n",
       "TOUCH_TIME                    float64\n",
       "SHOT_DIST                     float64\n",
       "PTS_TYPE                        int64\n",
       "SHOT_RESULT                    object\n",
       "CLOSEST_DEFENDER               object\n",
       "CLOSEST_DEFENDER_PLAYER_ID      int64\n",
       "CLOSE_DEF_DIST                float64\n",
       "FGM                             int64\n",
       "PTS                             int64\n",
       "player_name                    object\n",
       "player_id                       int64\n",
       "dtype: object"
      ]
     },
     "execution_count": 5,
     "metadata": {},
     "output_type": "execute_result"
    }
   ],
   "source": [
    "# Visualización de los tipos de valores importados\n",
    "\n",
    "shots.dtypes"
   ]
  },
  {
   "cell_type": "code",
   "execution_count": 6,
   "metadata": {},
   "outputs": [
    {
     "data": {
      "text/plain": [
       "0    70164\n",
       "1    57905\n",
       "Name: FGM, dtype: int64"
      ]
     },
     "execution_count": 6,
     "metadata": {},
     "output_type": "execute_result"
    }
   ],
   "source": [
    "# Visualización de los elementos catalogados como FGM. Estos elementos son los que nos proporcionan la información de si un tiro ha entrado o no siendo el 0 como lanzamiento no exitoso y 1 como lanzamiento exitoso\n",
    "\n",
    "shots['FGM'].value_counts()"
   ]
  },
  {
   "cell_type": "code",
   "execution_count": 7,
   "metadata": {},
   "outputs": [
    {
     "data": {
      "text/html": [
       "<div>\n",
       "<style scoped>\n",
       "    .dataframe tbody tr th:only-of-type {\n",
       "        vertical-align: middle;\n",
       "    }\n",
       "\n",
       "    .dataframe tbody tr th {\n",
       "        vertical-align: top;\n",
       "    }\n",
       "\n",
       "    .dataframe thead th {\n",
       "        text-align: right;\n",
       "    }\n",
       "</style>\n",
       "<table border=\"1\" class=\"dataframe\">\n",
       "  <thead>\n",
       "    <tr style=\"text-align: right;\">\n",
       "      <th></th>\n",
       "      <th>GAME_ID</th>\n",
       "      <th>FINAL_MARGIN</th>\n",
       "      <th>SHOT_NUMBER</th>\n",
       "      <th>PERIOD</th>\n",
       "      <th>SHOT_CLOCK</th>\n",
       "      <th>DRIBBLES</th>\n",
       "      <th>TOUCH_TIME</th>\n",
       "      <th>SHOT_DIST</th>\n",
       "      <th>PTS_TYPE</th>\n",
       "      <th>CLOSEST_DEFENDER_PLAYER_ID</th>\n",
       "      <th>CLOSE_DEF_DIST</th>\n",
       "      <th>FGM</th>\n",
       "      <th>PTS</th>\n",
       "      <th>player_id</th>\n",
       "    </tr>\n",
       "  </thead>\n",
       "  <tbody>\n",
       "    <tr>\n",
       "      <th>GAME_ID</th>\n",
       "      <td>1.000000</td>\n",
       "      <td>0.001726</td>\n",
       "      <td>0.008129</td>\n",
       "      <td>-0.008921</td>\n",
       "      <td>0.014530</td>\n",
       "      <td>0.002014</td>\n",
       "      <td>-0.000735</td>\n",
       "      <td>-0.000187</td>\n",
       "      <td>0.003418</td>\n",
       "      <td>0.028676</td>\n",
       "      <td>0.006739</td>\n",
       "      <td>-0.008761</td>\n",
       "      <td>-0.008464</td>\n",
       "      <td>0.027937</td>\n",
       "    </tr>\n",
       "    <tr>\n",
       "      <th>FINAL_MARGIN</th>\n",
       "      <td>0.001726</td>\n",
       "      <td>1.000000</td>\n",
       "      <td>0.000836</td>\n",
       "      <td>-0.003078</td>\n",
       "      <td>-0.009276</td>\n",
       "      <td>0.011739</td>\n",
       "      <td>0.010788</td>\n",
       "      <td>0.008876</td>\n",
       "      <td>0.024134</td>\n",
       "      <td>0.057165</td>\n",
       "      <td>0.033064</td>\n",
       "      <td>0.058762</td>\n",
       "      <td>0.064784</td>\n",
       "      <td>-0.050825</td>\n",
       "    </tr>\n",
       "    <tr>\n",
       "      <th>SHOT_NUMBER</th>\n",
       "      <td>0.008129</td>\n",
       "      <td>0.000836</td>\n",
       "      <td>1.000000</td>\n",
       "      <td>0.654932</td>\n",
       "      <td>-0.032683</td>\n",
       "      <td>0.141100</td>\n",
       "      <td>0.144071</td>\n",
       "      <td>0.011541</td>\n",
       "      <td>0.003054</td>\n",
       "      <td>0.013257</td>\n",
       "      <td>-0.037769</td>\n",
       "      <td>-0.008351</td>\n",
       "      <td>-0.009666</td>\n",
       "      <td>-0.006592</td>\n",
       "    </tr>\n",
       "    <tr>\n",
       "      <th>PERIOD</th>\n",
       "      <td>-0.008921</td>\n",
       "      <td>-0.003078</td>\n",
       "      <td>0.654932</td>\n",
       "      <td>1.000000</td>\n",
       "      <td>-0.051796</td>\n",
       "      <td>0.055301</td>\n",
       "      <td>0.046089</td>\n",
       "      <td>0.030080</td>\n",
       "      <td>0.048915</td>\n",
       "      <td>0.011462</td>\n",
       "      <td>-0.010204</td>\n",
       "      <td>-0.014082</td>\n",
       "      <td>-0.008501</td>\n",
       "      <td>0.004790</td>\n",
       "    </tr>\n",
       "    <tr>\n",
       "      <th>SHOT_CLOCK</th>\n",
       "      <td>0.014530</td>\n",
       "      <td>-0.009276</td>\n",
       "      <td>-0.032683</td>\n",
       "      <td>-0.051796</td>\n",
       "      <td>1.000000</td>\n",
       "      <td>-0.082771</td>\n",
       "      <td>-0.147688</td>\n",
       "      <td>-0.173026</td>\n",
       "      <td>-0.032809</td>\n",
       "      <td>-0.003289</td>\n",
       "      <td>0.026558</td>\n",
       "      <td>0.096855</td>\n",
       "      <td>0.084173</td>\n",
       "      <td>0.038315</td>\n",
       "    </tr>\n",
       "    <tr>\n",
       "      <th>DRIBBLES</th>\n",
       "      <td>0.002014</td>\n",
       "      <td>0.011739</td>\n",
       "      <td>0.141100</td>\n",
       "      <td>0.055301</td>\n",
       "      <td>-0.082771</td>\n",
       "      <td>1.000000</td>\n",
       "      <td>0.914311</td>\n",
       "      <td>-0.082540</td>\n",
       "      <td>-0.169016</td>\n",
       "      <td>0.016915</td>\n",
       "      <td>-0.153674</td>\n",
       "      <td>-0.034390</td>\n",
       "      <td>-0.055689</td>\n",
       "      <td>0.023655</td>\n",
       "    </tr>\n",
       "    <tr>\n",
       "      <th>TOUCH_TIME</th>\n",
       "      <td>-0.000735</td>\n",
       "      <td>0.010788</td>\n",
       "      <td>0.144071</td>\n",
       "      <td>0.046089</td>\n",
       "      <td>-0.147688</td>\n",
       "      <td>0.914311</td>\n",
       "      <td>1.000000</td>\n",
       "      <td>-0.085165</td>\n",
       "      <td>-0.181007</td>\n",
       "      <td>0.016225</td>\n",
       "      <td>-0.164737</td>\n",
       "      <td>-0.045299</td>\n",
       "      <td>-0.066736</td>\n",
       "      <td>0.001797</td>\n",
       "    </tr>\n",
       "    <tr>\n",
       "      <th>SHOT_DIST</th>\n",
       "      <td>-0.000187</td>\n",
       "      <td>0.008876</td>\n",
       "      <td>0.011541</td>\n",
       "      <td>0.030080</td>\n",
       "      <td>-0.173026</td>\n",
       "      <td>-0.082540</td>\n",
       "      <td>-0.085165</td>\n",
       "      <td>1.000000</td>\n",
       "      <td>0.740933</td>\n",
       "      <td>0.002777</td>\n",
       "      <td>0.523192</td>\n",
       "      <td>-0.191704</td>\n",
       "      <td>-0.069147</td>\n",
       "      <td>-0.024270</td>\n",
       "    </tr>\n",
       "    <tr>\n",
       "      <th>PTS_TYPE</th>\n",
       "      <td>0.003418</td>\n",
       "      <td>0.024134</td>\n",
       "      <td>0.003054</td>\n",
       "      <td>0.048915</td>\n",
       "      <td>-0.032809</td>\n",
       "      <td>-0.169016</td>\n",
       "      <td>-0.181007</td>\n",
       "      <td>0.740933</td>\n",
       "      <td>1.000000</td>\n",
       "      <td>0.006266</td>\n",
       "      <td>0.414198</td>\n",
       "      <td>-0.121293</td>\n",
       "      <td>0.030361</td>\n",
       "      <td>0.010486</td>\n",
       "    </tr>\n",
       "    <tr>\n",
       "      <th>CLOSEST_DEFENDER_PLAYER_ID</th>\n",
       "      <td>0.028676</td>\n",
       "      <td>0.057165</td>\n",
       "      <td>0.013257</td>\n",
       "      <td>0.011462</td>\n",
       "      <td>-0.003289</td>\n",
       "      <td>0.016915</td>\n",
       "      <td>0.016225</td>\n",
       "      <td>0.002777</td>\n",
       "      <td>0.006266</td>\n",
       "      <td>1.000000</td>\n",
       "      <td>-0.015057</td>\n",
       "      <td>-0.002633</td>\n",
       "      <td>-0.002046</td>\n",
       "      <td>-0.002317</td>\n",
       "    </tr>\n",
       "    <tr>\n",
       "      <th>CLOSE_DEF_DIST</th>\n",
       "      <td>0.006739</td>\n",
       "      <td>0.033064</td>\n",
       "      <td>-0.037769</td>\n",
       "      <td>-0.010204</td>\n",
       "      <td>0.026558</td>\n",
       "      <td>-0.153674</td>\n",
       "      <td>-0.164737</td>\n",
       "      <td>0.523192</td>\n",
       "      <td>0.414198</td>\n",
       "      <td>-0.015057</td>\n",
       "      <td>1.000000</td>\n",
       "      <td>-0.001074</td>\n",
       "      <td>0.063612</td>\n",
       "      <td>0.008483</td>\n",
       "    </tr>\n",
       "    <tr>\n",
       "      <th>FGM</th>\n",
       "      <td>-0.008761</td>\n",
       "      <td>0.058762</td>\n",
       "      <td>-0.008351</td>\n",
       "      <td>-0.014082</td>\n",
       "      <td>0.096855</td>\n",
       "      <td>-0.034390</td>\n",
       "      <td>-0.045299</td>\n",
       "      <td>-0.191704</td>\n",
       "      <td>-0.121293</td>\n",
       "      <td>-0.002633</td>\n",
       "      <td>-0.001074</td>\n",
       "      <td>1.000000</td>\n",
       "      <td>0.970686</td>\n",
       "      <td>-0.005099</td>\n",
       "    </tr>\n",
       "    <tr>\n",
       "      <th>PTS</th>\n",
       "      <td>-0.008464</td>\n",
       "      <td>0.064784</td>\n",
       "      <td>-0.009666</td>\n",
       "      <td>-0.008501</td>\n",
       "      <td>0.084173</td>\n",
       "      <td>-0.055689</td>\n",
       "      <td>-0.066736</td>\n",
       "      <td>-0.069147</td>\n",
       "      <td>0.030361</td>\n",
       "      <td>-0.002046</td>\n",
       "      <td>0.063612</td>\n",
       "      <td>0.970686</td>\n",
       "      <td>1.000000</td>\n",
       "      <td>-0.003276</td>\n",
       "    </tr>\n",
       "    <tr>\n",
       "      <th>player_id</th>\n",
       "      <td>0.027937</td>\n",
       "      <td>-0.050825</td>\n",
       "      <td>-0.006592</td>\n",
       "      <td>0.004790</td>\n",
       "      <td>0.038315</td>\n",
       "      <td>0.023655</td>\n",
       "      <td>0.001797</td>\n",
       "      <td>-0.024270</td>\n",
       "      <td>0.010486</td>\n",
       "      <td>-0.002317</td>\n",
       "      <td>0.008483</td>\n",
       "      <td>-0.005099</td>\n",
       "      <td>-0.003276</td>\n",
       "      <td>1.000000</td>\n",
       "    </tr>\n",
       "  </tbody>\n",
       "</table>\n",
       "</div>"
      ],
      "text/plain": [
       "                             GAME_ID  FINAL_MARGIN  SHOT_NUMBER    PERIOD  \\\n",
       "GAME_ID                     1.000000      0.001726     0.008129 -0.008921   \n",
       "FINAL_MARGIN                0.001726      1.000000     0.000836 -0.003078   \n",
       "SHOT_NUMBER                 0.008129      0.000836     1.000000  0.654932   \n",
       "PERIOD                     -0.008921     -0.003078     0.654932  1.000000   \n",
       "SHOT_CLOCK                  0.014530     -0.009276    -0.032683 -0.051796   \n",
       "DRIBBLES                    0.002014      0.011739     0.141100  0.055301   \n",
       "TOUCH_TIME                 -0.000735      0.010788     0.144071  0.046089   \n",
       "SHOT_DIST                  -0.000187      0.008876     0.011541  0.030080   \n",
       "PTS_TYPE                    0.003418      0.024134     0.003054  0.048915   \n",
       "CLOSEST_DEFENDER_PLAYER_ID  0.028676      0.057165     0.013257  0.011462   \n",
       "CLOSE_DEF_DIST              0.006739      0.033064    -0.037769 -0.010204   \n",
       "FGM                        -0.008761      0.058762    -0.008351 -0.014082   \n",
       "PTS                        -0.008464      0.064784    -0.009666 -0.008501   \n",
       "player_id                   0.027937     -0.050825    -0.006592  0.004790   \n",
       "\n",
       "                            SHOT_CLOCK  DRIBBLES  TOUCH_TIME  SHOT_DIST  \\\n",
       "GAME_ID                       0.014530  0.002014   -0.000735  -0.000187   \n",
       "FINAL_MARGIN                 -0.009276  0.011739    0.010788   0.008876   \n",
       "SHOT_NUMBER                  -0.032683  0.141100    0.144071   0.011541   \n",
       "PERIOD                       -0.051796  0.055301    0.046089   0.030080   \n",
       "SHOT_CLOCK                    1.000000 -0.082771   -0.147688  -0.173026   \n",
       "DRIBBLES                     -0.082771  1.000000    0.914311  -0.082540   \n",
       "TOUCH_TIME                   -0.147688  0.914311    1.000000  -0.085165   \n",
       "SHOT_DIST                    -0.173026 -0.082540   -0.085165   1.000000   \n",
       "PTS_TYPE                     -0.032809 -0.169016   -0.181007   0.740933   \n",
       "CLOSEST_DEFENDER_PLAYER_ID   -0.003289  0.016915    0.016225   0.002777   \n",
       "CLOSE_DEF_DIST                0.026558 -0.153674   -0.164737   0.523192   \n",
       "FGM                           0.096855 -0.034390   -0.045299  -0.191704   \n",
       "PTS                           0.084173 -0.055689   -0.066736  -0.069147   \n",
       "player_id                     0.038315  0.023655    0.001797  -0.024270   \n",
       "\n",
       "                            PTS_TYPE  CLOSEST_DEFENDER_PLAYER_ID  \\\n",
       "GAME_ID                     0.003418                    0.028676   \n",
       "FINAL_MARGIN                0.024134                    0.057165   \n",
       "SHOT_NUMBER                 0.003054                    0.013257   \n",
       "PERIOD                      0.048915                    0.011462   \n",
       "SHOT_CLOCK                 -0.032809                   -0.003289   \n",
       "DRIBBLES                   -0.169016                    0.016915   \n",
       "TOUCH_TIME                 -0.181007                    0.016225   \n",
       "SHOT_DIST                   0.740933                    0.002777   \n",
       "PTS_TYPE                    1.000000                    0.006266   \n",
       "CLOSEST_DEFENDER_PLAYER_ID  0.006266                    1.000000   \n",
       "CLOSE_DEF_DIST              0.414198                   -0.015057   \n",
       "FGM                        -0.121293                   -0.002633   \n",
       "PTS                         0.030361                   -0.002046   \n",
       "player_id                   0.010486                   -0.002317   \n",
       "\n",
       "                            CLOSE_DEF_DIST       FGM       PTS  player_id  \n",
       "GAME_ID                           0.006739 -0.008761 -0.008464   0.027937  \n",
       "FINAL_MARGIN                      0.033064  0.058762  0.064784  -0.050825  \n",
       "SHOT_NUMBER                      -0.037769 -0.008351 -0.009666  -0.006592  \n",
       "PERIOD                           -0.010204 -0.014082 -0.008501   0.004790  \n",
       "SHOT_CLOCK                        0.026558  0.096855  0.084173   0.038315  \n",
       "DRIBBLES                         -0.153674 -0.034390 -0.055689   0.023655  \n",
       "TOUCH_TIME                       -0.164737 -0.045299 -0.066736   0.001797  \n",
       "SHOT_DIST                         0.523192 -0.191704 -0.069147  -0.024270  \n",
       "PTS_TYPE                          0.414198 -0.121293  0.030361   0.010486  \n",
       "CLOSEST_DEFENDER_PLAYER_ID       -0.015057 -0.002633 -0.002046  -0.002317  \n",
       "CLOSE_DEF_DIST                    1.000000 -0.001074  0.063612   0.008483  \n",
       "FGM                              -0.001074  1.000000  0.970686  -0.005099  \n",
       "PTS                               0.063612  0.970686  1.000000  -0.003276  \n",
       "player_id                         0.008483 -0.005099 -0.003276   1.000000  "
      ]
     },
     "execution_count": 7,
     "metadata": {},
     "output_type": "execute_result"
    }
   ],
   "source": [
    "# Visualización de tabla de correlación entre variables\n",
    "\n",
    "corr = shots.corr()\n",
    "corr"
   ]
  },
  {
   "cell_type": "code",
   "execution_count": 8,
   "metadata": {},
   "outputs": [
    {
     "data": {
      "image/png": "[encoded data removed]",
      "text/plain": [
       "<Figure size 720x720 with 2 Axes>"
      ]
     },
     "metadata": {
      "needs_background": "light"
     },
     "output_type": "display_data"
    }
   ],
   "source": [
    "# Visualización de gráfica de correlación\n",
    "\n",
    "fig, ax = plt.subplots(figsize = (10,10))\n",
    "ax = sns.heatmap(corr, annot=True)"
   ]
  },
  {
   "cell_type": "markdown",
   "metadata": {},
   "source": [
    "### Fase 2: Preparación del DataSet"
   ]
  },
  {
   "cell_type": "code",
   "execution_count": 9,
   "metadata": {},
   "outputs": [],
   "source": [
    "# Quitamos las columna pts_type ya que en tiene un grado alto de correlación con shots_distance. De hecho esto es así ya que a partir de una distancia el tiro vale 3 en vez de 2 puntos\n",
    "# Eliminamos las columnas con información repetida. SHOT RESULT nos proporciona la misma información que FMG y por tanto no la necesitaremos para nuestro análisis. Asimismo PTS por porciona la misma información cuando se cruza con shot distance\n",
    "# Eliminamos también las columnas que no serán de relevancia para el análisis (GAMEID, MATCHUP, FINAL MARGIN, CLOSEST DEFENDER, Player_name o SHOT_NUMBER)\n",
    "# Las columnas CLOSEST_DEFENDER_PLAYER_ID o player_id podrían ser de relevancia pero se deciden quitar para eliminar complejidad en el ánalisis\n",
    "\n",
    "shots = shots.drop(columns=['PTS_TYPE',  'SHOT_RESULT', 'PTS', 'GAME_ID', 'MATCHUP', 'FINAL_MARGIN', \n",
    "                            'CLOSEST_DEFENDER', 'player_name', 'SHOT_NUMBER', 'CLOSEST_DEFENDER_PLAYER_ID', \n",
    "                            'player_id'])"
   ]
  },
  {
   "cell_type": "code",
   "execution_count": 10,
   "metadata": {},
   "outputs": [
    {
     "data": {
      "text/html": [
       "<div>\n",
       "<style scoped>\n",
       "    .dataframe tbody tr th:only-of-type {\n",
       "        vertical-align: middle;\n",
       "    }\n",
       "\n",
       "    .dataframe tbody tr th {\n",
       "        vertical-align: top;\n",
       "    }\n",
       "\n",
       "    .dataframe thead th {\n",
       "        text-align: right;\n",
       "    }\n",
       "</style>\n",
       "<table border=\"1\" class=\"dataframe\">\n",
       "  <thead>\n",
       "    <tr style=\"text-align: right;\">\n",
       "      <th></th>\n",
       "      <th>LOCATION</th>\n",
       "      <th>W</th>\n",
       "      <th>PERIOD</th>\n",
       "      <th>GAME_CLOCK</th>\n",
       "      <th>SHOT_CLOCK</th>\n",
       "      <th>DRIBBLES</th>\n",
       "      <th>TOUCH_TIME</th>\n",
       "      <th>SHOT_DIST</th>\n",
       "      <th>CLOSE_DEF_DIST</th>\n",
       "      <th>FGM</th>\n",
       "    </tr>\n",
       "  </thead>\n",
       "  <tbody>\n",
       "    <tr>\n",
       "      <th>0</th>\n",
       "      <td>A</td>\n",
       "      <td>W</td>\n",
       "      <td>1</td>\n",
       "      <td>1:09</td>\n",
       "      <td>10.8</td>\n",
       "      <td>2</td>\n",
       "      <td>1.9</td>\n",
       "      <td>7.7</td>\n",
       "      <td>1.3</td>\n",
       "      <td>1</td>\n",
       "    </tr>\n",
       "    <tr>\n",
       "      <th>1</th>\n",
       "      <td>A</td>\n",
       "      <td>W</td>\n",
       "      <td>1</td>\n",
       "      <td>0:14</td>\n",
       "      <td>3.4</td>\n",
       "      <td>0</td>\n",
       "      <td>0.8</td>\n",
       "      <td>28.2</td>\n",
       "      <td>6.1</td>\n",
       "      <td>0</td>\n",
       "    </tr>\n",
       "    <tr>\n",
       "      <th>2</th>\n",
       "      <td>A</td>\n",
       "      <td>W</td>\n",
       "      <td>1</td>\n",
       "      <td>0:00</td>\n",
       "      <td>NaN</td>\n",
       "      <td>3</td>\n",
       "      <td>2.7</td>\n",
       "      <td>10.1</td>\n",
       "      <td>0.9</td>\n",
       "      <td>0</td>\n",
       "    </tr>\n",
       "    <tr>\n",
       "      <th>3</th>\n",
       "      <td>A</td>\n",
       "      <td>W</td>\n",
       "      <td>2</td>\n",
       "      <td>11:47</td>\n",
       "      <td>10.3</td>\n",
       "      <td>2</td>\n",
       "      <td>1.9</td>\n",
       "      <td>17.2</td>\n",
       "      <td>3.4</td>\n",
       "      <td>0</td>\n",
       "    </tr>\n",
       "    <tr>\n",
       "      <th>4</th>\n",
       "      <td>A</td>\n",
       "      <td>W</td>\n",
       "      <td>2</td>\n",
       "      <td>10:34</td>\n",
       "      <td>10.9</td>\n",
       "      <td>2</td>\n",
       "      <td>2.7</td>\n",
       "      <td>3.7</td>\n",
       "      <td>1.1</td>\n",
       "      <td>0</td>\n",
       "    </tr>\n",
       "  </tbody>\n",
       "</table>\n",
       "</div>"
      ],
      "text/plain": [
       "  LOCATION  W  PERIOD GAME_CLOCK  SHOT_CLOCK  DRIBBLES  TOUCH_TIME  SHOT_DIST  \\\n",
       "0        A  W       1       1:09        10.8         2         1.9        7.7   \n",
       "1        A  W       1       0:14         3.4         0         0.8       28.2   \n",
       "2        A  W       1       0:00         NaN         3         2.7       10.1   \n",
       "3        A  W       2      11:47        10.3         2         1.9       17.2   \n",
       "4        A  W       2      10:34        10.9         2         2.7        3.7   \n",
       "\n",
       "   CLOSE_DEF_DIST  FGM  \n",
       "0             1.3    1  \n",
       "1             6.1    0  \n",
       "2             0.9    0  \n",
       "3             3.4    0  \n",
       "4             1.1    0  "
      ]
     },
     "execution_count": 10,
     "metadata": {},
     "output_type": "execute_result"
    }
   ],
   "source": [
    "# Visualizamos el DataSet ya con estas columnas eliminadas\n",
    "\n",
    "shots.head()"
   ]
  },
  {
   "cell_type": "code",
   "execution_count": 11,
   "metadata": {},
   "outputs": [
    {
     "name": "stdout",
     "output_type": "stream",
     "text": [
      "<class 'pandas.core.frame.DataFrame'>\n",
      "RangeIndex: 128069 entries, 0 to 128068\n",
      "Data columns (total 10 columns):\n",
      "LOCATION          128069 non-null object\n",
      "W                 128069 non-null object\n",
      "PERIOD            128069 non-null int64\n",
      "GAME_CLOCK        128069 non-null object\n",
      "SHOT_CLOCK        122502 non-null float64\n",
      "DRIBBLES          128069 non-null int64\n",
      "TOUCH_TIME        128069 non-null float64\n",
      "SHOT_DIST         128069 non-null float64\n",
      "CLOSE_DEF_DIST    128069 non-null float64\n",
      "FGM               128069 non-null int64\n",
      "dtypes: float64(4), int64(3), object(3)\n",
      "memory usage: 9.8+ MB\n"
     ]
    }
   ],
   "source": [
    "# Comprobamos los tipos y valores que tenemos de cada columna\n",
    "\n",
    "shots.info()"
   ]
  },
  {
   "cell_type": "code",
   "execution_count": 12,
   "metadata": {},
   "outputs": [
    {
     "data": {
      "text/plain": [
       "LOCATION             0\n",
       "W                    0\n",
       "PERIOD               0\n",
       "GAME_CLOCK           0\n",
       "SHOT_CLOCK        5567\n",
       "DRIBBLES             0\n",
       "TOUCH_TIME           0\n",
       "SHOT_DIST            0\n",
       "CLOSE_DEF_DIST       0\n",
       "FGM                  0\n",
       "dtype: int64"
      ]
     },
     "execution_count": 12,
     "metadata": {},
     "output_type": "execute_result"
    }
   ],
   "source": [
    "# Comprobamos la cantidad de valores nulos que obtenemos\n",
    "\n",
    "shots.isnull().sum()"
   ]
  },
  {
   "cell_type": "code",
   "execution_count": 13,
   "metadata": {},
   "outputs": [],
   "source": [
    "# Vemos que los únicos valores nulos que encontramos son referentes a Shot_clock, al ser estos un menos de un 5% de los valores y ser una esta columna de especial relevancia eliminamos estas filas que tienen valores nulos en vez de transformarlas a valor cero\n",
    "\n",
    "shots.dropna (inplace = True)"
   ]
  },
  {
   "cell_type": "code",
   "execution_count": 14,
   "metadata": {},
   "outputs": [
    {
     "data": {
      "text/plain": [
       "LOCATION           object\n",
       "W                  object\n",
       "PERIOD              int64\n",
       "GAME_CLOCK         object\n",
       "SHOT_CLOCK        float64\n",
       "DRIBBLES            int64\n",
       "TOUCH_TIME        float64\n",
       "SHOT_DIST         float64\n",
       "CLOSE_DEF_DIST    float64\n",
       "FGM                 int64\n",
       "dtype: object"
      ]
     },
     "execution_count": 14,
     "metadata": {},
     "output_type": "execute_result"
    }
   ],
   "source": [
    "# Vemos la tipologia de las columnas de cara a seguir limpiando el DataSet\n",
    "\n",
    "shots.dtypes"
   ]
  },
  {
   "cell_type": "code",
   "execution_count": 15,
   "metadata": {},
   "outputs": [],
   "source": [
    "# Transformamos la columna GAME_CLOCK a valor numerico para poder realizar nuestro ánalisis a partir de una función \n",
    "\n",
    "def arrange(time):\n",
    "    ## A esta función le entra como valor la columna de SHOT_CLOCK \n",
    "    a= time.split(':')\n",
    "    return int(a[0])\n",
    "    # Devuelve el minuto del partio en valor numerico\n",
    "    \n",
    "shots.GAME_CLOCK = shots.GAME_CLOCK.apply(arrange)"
   ]
  },
  {
   "cell_type": "code",
   "execution_count": 16,
   "metadata": {},
   "outputs": [
    {
     "data": {
      "text/plain": [
       "9     10612\n",
       "4     10612\n",
       "7     10605\n",
       "6     10601\n",
       "8     10545\n",
       "5     10480\n",
       "3     10461\n",
       "10    10446\n",
       "1     10271\n",
       "2     10191\n",
       "11     8871\n",
       "0      8804\n",
       "12        3\n",
       "Name: GAME_CLOCK, dtype: int64"
      ]
     },
     "execution_count": 16,
     "metadata": {},
     "output_type": "execute_result"
    }
   ],
   "source": [
    "# Comprobamos de todos nuestros valores cuantos se corresponden a los minutos finales de cuarto/partido y cuantos al tiempo normal del mismo\n",
    "\n",
    "shots['GAME_CLOCK'].value_counts()"
   ]
  },
  {
   "cell_type": "code",
   "execution_count": 17,
   "metadata": {},
   "outputs": [
    {
     "data": {
      "text/html": [
       "<div>\n",
       "<style scoped>\n",
       "    .dataframe tbody tr th:only-of-type {\n",
       "        vertical-align: middle;\n",
       "    }\n",
       "\n",
       "    .dataframe tbody tr th {\n",
       "        vertical-align: top;\n",
       "    }\n",
       "\n",
       "    .dataframe thead th {\n",
       "        text-align: right;\n",
       "    }\n",
       "</style>\n",
       "<table border=\"1\" class=\"dataframe\">\n",
       "  <thead>\n",
       "    <tr style=\"text-align: right;\">\n",
       "      <th></th>\n",
       "      <th>PERIOD</th>\n",
       "      <th>GAME_CLOCK</th>\n",
       "      <th>SHOT_CLOCK</th>\n",
       "      <th>DRIBBLES</th>\n",
       "      <th>TOUCH_TIME</th>\n",
       "      <th>SHOT_DIST</th>\n",
       "      <th>CLOSE_DEF_DIST</th>\n",
       "      <th>FGM</th>\n",
       "      <th>LOCATION_H</th>\n",
       "      <th>W_W</th>\n",
       "    </tr>\n",
       "  </thead>\n",
       "  <tbody>\n",
       "    <tr>\n",
       "      <th>0</th>\n",
       "      <td>1</td>\n",
       "      <td>1</td>\n",
       "      <td>10.8</td>\n",
       "      <td>2</td>\n",
       "      <td>1.9</td>\n",
       "      <td>7.7</td>\n",
       "      <td>1.3</td>\n",
       "      <td>1</td>\n",
       "      <td>0</td>\n",
       "      <td>1</td>\n",
       "    </tr>\n",
       "    <tr>\n",
       "      <th>1</th>\n",
       "      <td>1</td>\n",
       "      <td>0</td>\n",
       "      <td>3.4</td>\n",
       "      <td>0</td>\n",
       "      <td>0.8</td>\n",
       "      <td>28.2</td>\n",
       "      <td>6.1</td>\n",
       "      <td>0</td>\n",
       "      <td>0</td>\n",
       "      <td>1</td>\n",
       "    </tr>\n",
       "    <tr>\n",
       "      <th>3</th>\n",
       "      <td>2</td>\n",
       "      <td>11</td>\n",
       "      <td>10.3</td>\n",
       "      <td>2</td>\n",
       "      <td>1.9</td>\n",
       "      <td>17.2</td>\n",
       "      <td>3.4</td>\n",
       "      <td>0</td>\n",
       "      <td>0</td>\n",
       "      <td>1</td>\n",
       "    </tr>\n",
       "    <tr>\n",
       "      <th>4</th>\n",
       "      <td>2</td>\n",
       "      <td>10</td>\n",
       "      <td>10.9</td>\n",
       "      <td>2</td>\n",
       "      <td>2.7</td>\n",
       "      <td>3.7</td>\n",
       "      <td>1.1</td>\n",
       "      <td>0</td>\n",
       "      <td>0</td>\n",
       "      <td>1</td>\n",
       "    </tr>\n",
       "    <tr>\n",
       "      <th>5</th>\n",
       "      <td>2</td>\n",
       "      <td>8</td>\n",
       "      <td>9.1</td>\n",
       "      <td>2</td>\n",
       "      <td>4.4</td>\n",
       "      <td>18.4</td>\n",
       "      <td>2.6</td>\n",
       "      <td>0</td>\n",
       "      <td>0</td>\n",
       "      <td>1</td>\n",
       "    </tr>\n",
       "    <tr>\n",
       "      <th>6</th>\n",
       "      <td>4</td>\n",
       "      <td>10</td>\n",
       "      <td>14.5</td>\n",
       "      <td>11</td>\n",
       "      <td>9.0</td>\n",
       "      <td>20.7</td>\n",
       "      <td>6.1</td>\n",
       "      <td>0</td>\n",
       "      <td>0</td>\n",
       "      <td>1</td>\n",
       "    </tr>\n",
       "    <tr>\n",
       "      <th>7</th>\n",
       "      <td>4</td>\n",
       "      <td>8</td>\n",
       "      <td>3.4</td>\n",
       "      <td>3</td>\n",
       "      <td>2.5</td>\n",
       "      <td>3.5</td>\n",
       "      <td>2.1</td>\n",
       "      <td>1</td>\n",
       "      <td>0</td>\n",
       "      <td>1</td>\n",
       "    </tr>\n",
       "    <tr>\n",
       "      <th>8</th>\n",
       "      <td>4</td>\n",
       "      <td>5</td>\n",
       "      <td>12.4</td>\n",
       "      <td>0</td>\n",
       "      <td>0.8</td>\n",
       "      <td>24.6</td>\n",
       "      <td>7.3</td>\n",
       "      <td>0</td>\n",
       "      <td>0</td>\n",
       "      <td>1</td>\n",
       "    </tr>\n",
       "    <tr>\n",
       "      <th>9</th>\n",
       "      <td>2</td>\n",
       "      <td>11</td>\n",
       "      <td>17.4</td>\n",
       "      <td>0</td>\n",
       "      <td>1.1</td>\n",
       "      <td>22.4</td>\n",
       "      <td>19.8</td>\n",
       "      <td>0</td>\n",
       "      <td>1</td>\n",
       "      <td>1</td>\n",
       "    </tr>\n",
       "    <tr>\n",
       "      <th>10</th>\n",
       "      <td>2</td>\n",
       "      <td>6</td>\n",
       "      <td>16.0</td>\n",
       "      <td>8</td>\n",
       "      <td>7.5</td>\n",
       "      <td>24.5</td>\n",
       "      <td>4.7</td>\n",
       "      <td>0</td>\n",
       "      <td>1</td>\n",
       "      <td>1</td>\n",
       "    </tr>\n",
       "  </tbody>\n",
       "</table>\n",
       "</div>"
      ],
      "text/plain": [
       "    PERIOD  GAME_CLOCK  SHOT_CLOCK  DRIBBLES  TOUCH_TIME  SHOT_DIST  \\\n",
       "0        1           1        10.8         2         1.9        7.7   \n",
       "1        1           0         3.4         0         0.8       28.2   \n",
       "3        2          11        10.3         2         1.9       17.2   \n",
       "4        2          10        10.9         2         2.7        3.7   \n",
       "5        2           8         9.1         2         4.4       18.4   \n",
       "6        4          10        14.5        11         9.0       20.7   \n",
       "7        4           8         3.4         3         2.5        3.5   \n",
       "8        4           5        12.4         0         0.8       24.6   \n",
       "9        2          11        17.4         0         1.1       22.4   \n",
       "10       2           6        16.0         8         7.5       24.5   \n",
       "\n",
       "    CLOSE_DEF_DIST  FGM  LOCATION_H  W_W  \n",
       "0              1.3    1           0    1  \n",
       "1              6.1    0           0    1  \n",
       "3              3.4    0           0    1  \n",
       "4              1.1    0           0    1  \n",
       "5              2.6    0           0    1  \n",
       "6              6.1    0           0    1  \n",
       "7              2.1    1           0    1  \n",
       "8              7.3    0           0    1  \n",
       "9             19.8    0           1    1  \n",
       "10             4.7    0           1    1  "
      ]
     },
     "execution_count": 17,
     "metadata": {},
     "output_type": "execute_result"
    }
   ],
   "source": [
    "# Creación del DataFrame con dummies en valores del tipo no numerico\n",
    "\n",
    "shots_dummy = pd.get_dummies(shots, drop_first=True)\n",
    "shots_dummy.head(10)"
   ]
  },
  {
   "cell_type": "code",
   "execution_count": 18,
   "metadata": {},
   "outputs": [
    {
     "data": {
      "text/plain": [
       "PERIOD              int64\n",
       "GAME_CLOCK          int64\n",
       "SHOT_CLOCK        float64\n",
       "DRIBBLES            int64\n",
       "TOUCH_TIME        float64\n",
       "SHOT_DIST         float64\n",
       "CLOSE_DEF_DIST    float64\n",
       "FGM                 int64\n",
       "LOCATION_H          uint8\n",
       "W_W                 uint8\n",
       "dtype: object"
      ]
     },
     "execution_count": 18,
     "metadata": {},
     "output_type": "execute_result"
    }
   ],
   "source": [
    "# Comprobación del los tipos del DataSet\n",
    "\n",
    "shots_dummy.dtypes"
   ]
  },
  {
   "cell_type": "markdown",
   "metadata": {},
   "source": [
    "## Fase 3: Entrenamiento de los modelos y obtención de métricas"
   ]
  },
  {
   "cell_type": "markdown",
   "metadata": {},
   "source": [
    "### Modelo 1: Logistic regresion"
   ]
  },
  {
   "cell_type": "code",
   "execution_count": 19,
   "metadata": {},
   "outputs": [
    {
     "name": "stdout",
     "output_type": "stream",
     "text": [
      "(98001, 9) (24501, 9) (98001,) (24501,)\n"
     ]
    }
   ],
   "source": [
    "# La columna FGM será nuestro groundtruth, utilizando el resto de valores como features para tratar de predecir el valor de FGM.\n",
    "\n",
    "X = shots_dummy.drop(columns='FGM')\n",
    "y = shots_dummy['FGM']\n",
    "\n",
    "X_train, X_test, y_train, y_test = train_test_split(X, y, test_size=0.2)\n",
    "print(X_train.shape, X_test.shape, y_train.shape, y_test.shape)"
   ]
  },
  {
   "cell_type": "code",
   "execution_count": 20,
   "metadata": {},
   "outputs": [],
   "source": [
    "cls = LogisticRegression()"
   ]
  },
  {
   "cell_type": "code",
   "execution_count": 21,
   "metadata": {},
   "outputs": [
    {
     "name": "stderr",
     "output_type": "stream",
     "text": [
      "/usr/local/lib/python3.7/site-packages/sklearn/linear_model/logistic.py:433: FutureWarning: Default solver will be changed to 'lbfgs' in 0.22. Specify a solver to silence this warning.\n",
      "  FutureWarning)\n"
     ]
    },
    {
     "data": {
      "text/plain": [
       "0.6054513395699662"
      ]
     },
     "execution_count": 21,
     "metadata": {},
     "output_type": "execute_result"
    }
   ],
   "source": [
    "cls.fit(X_train, y_train)\n",
    "cls.score(X, y)"
   ]
  },
  {
   "cell_type": "code",
   "execution_count": 22,
   "metadata": {},
   "outputs": [],
   "source": [
    "y_pred_logistic = [int(cls.predict([X_test.iloc[i]])) for i in range(len(y_test))]"
   ]
  },
  {
   "cell_type": "code",
   "execution_count": 23,
   "metadata": {},
   "outputs": [
    {
     "name": "stdout",
     "output_type": "stream",
     "text": [
      "[[9634 3790]\n",
      " [5780 5297]]\n",
      "0.6094036978082528\n"
     ]
    }
   ],
   "source": [
    "cm_logistic = confusion_matrix(y_test, y_pred_logistic)\n",
    "as_logistic = accuracy_score(y_test, y_pred_logistic)\n",
    "print(cm_logistic)\n",
    "print(as_logistic)"
   ]
  },
  {
   "cell_type": "code",
   "execution_count": 24,
   "metadata": {},
   "outputs": [],
   "source": [
    "\n",
    "# Plot non-normalized confusion matrix logist\n",
    "#plot_confusion_matrix(y_test, y_pred2, classes=class_names,\n",
    "#title='Confusion matrix, without normalization')\n",
    "\n",
    "# Plot normalized confusion matrix logist\n",
    "#plot_confusion_matrix(y_test, y_pred2, classes=class_names, normalize=True,\n",
    "#                      title='Normalized confusion matrix')\n"
   ]
  },
  {
   "cell_type": "markdown",
   "metadata": {},
   "source": [
    "### Modelo 2: K-Nearest Neighbors"
   ]
  },
  {
   "cell_type": "markdown",
   "metadata": {},
   "source": [
    "- **2.1 k=3**"
   ]
  },
  {
   "cell_type": "code",
   "execution_count": 25,
   "metadata": {},
   "outputs": [
    {
     "name": "stdout",
     "output_type": "stream",
     "text": [
      "[[8050 5374]\n",
      " [5670 5407]]\n",
      "0.5492428880453859\n"
     ]
    }
   ],
   "source": [
    "# k=3\n",
    "\n",
    "cls2 = KNeighborsClassifier(n_neighbors=3)\n",
    "cls2.fit(X_train, y_train)\n",
    "cls2.score(X, y)\n",
    "y_pred_kneighbors_3 = [int(cls2.predict([X_test.iloc[i]])) for i in range(len(y_test))]\n",
    "cm_kneighbors_3 = confusion_matrix(y_test, y_pred_kneighbors_3)\n",
    "as_kneighbors_3 = accuracy_score(y_test, y_pred_kneighbors_3)\n",
    "print(cm_kneighbors_3)\n",
    "print(as_kneighbors_3)"
   ]
  },
  {
   "cell_type": "markdown",
   "metadata": {},
   "source": [
    "- **2.2 k=5**"
   ]
  },
  {
   "cell_type": "code",
   "execution_count": 26,
   "metadata": {},
   "outputs": [
    {
     "name": "stdout",
     "output_type": "stream",
     "text": [
      "[[8407 5017]\n",
      " [5790 5287]]\n",
      "0.5589159626137709\n"
     ]
    }
   ],
   "source": [
    "# k=20\n",
    "\n",
    "cls3 = KNeighborsClassifier(n_neighbors=5)\n",
    "cls3.fit(X_train, y_train)\n",
    "cls3.score(X, y)\n",
    "y_pred_kneighbors_5 = [int(cls3.predict([X_test.iloc[i]])) for i in range(len(y_test))]\n",
    "cm_kneighbors_5 = confusion_matrix(y_test, y_pred_kneighbors_5)\n",
    "as_kneighbors_5 = accuracy_score(y_test, y_pred_kneighbors_5)\n",
    "print(cm_kneighbors_5)\n",
    "print(as_kneighbors_5)"
   ]
  },
  {
   "cell_type": "markdown",
   "metadata": {},
   "source": [
    "### Modelo 3: RandomForest"
   ]
  },
  {
   "cell_type": "code",
   "execution_count": 27,
   "metadata": {},
   "outputs": [],
   "source": [
    "clf_RF = RandomForestClassifier(n_estimators = 10).fit(X_train, y_train)\n",
    "RF = clf_RF.score(X_test,y_test)"
   ]
  },
  {
   "cell_type": "code",
   "execution_count": 28,
   "metadata": {},
   "outputs": [
    {
     "data": {
      "text/plain": [
       "array([[9903, 3521],\n",
       "       [6742, 4335]])"
      ]
     },
     "execution_count": 28,
     "metadata": {},
     "output_type": "execute_result"
    }
   ],
   "source": [
    "y_predRF = clf_RF.predict(X_test)\n",
    "confusion_matrix(y_test, y_predRF)"
   ]
  },
  {
   "cell_type": "code",
   "execution_count": 29,
   "metadata": {},
   "outputs": [
    {
     "data": {
      "text/plain": [
       "0.5811191379943675"
      ]
     },
     "execution_count": 29,
     "metadata": {},
     "output_type": "execute_result"
    }
   ],
   "source": [
    "RF"
   ]
  },
  {
   "cell_type": "markdown",
   "metadata": {},
   "source": [
    "### Modelo 4: Support Vector Classification"
   ]
  },
  {
   "cell_type": "code",
   "execution_count": 30,
   "metadata": {},
   "outputs": [],
   "source": [
    "clf_svc = svm.SVC(gamma =\"auto\").fit(X_train, y_train)\n",
    "svc = clf_svc.score(X_test,y_test)"
   ]
  },
  {
   "cell_type": "code",
   "execution_count": 31,
   "metadata": {},
   "outputs": [
    {
     "data": {
      "text/plain": [
       "array([[10587,  2837],\n",
       "       [ 6758,  4319]])"
      ]
     },
     "execution_count": 31,
     "metadata": {},
     "output_type": "execute_result"
    }
   ],
   "source": [
    "y_predsvc = clf_svc.predict(X_test)\n",
    "confusion_matrix(y_test, y_predsvc)"
   ]
  },
  {
   "cell_type": "code",
   "execution_count": 32,
   "metadata": {},
   "outputs": [
    {
     "data": {
      "text/plain": [
       "0.6083833312926002"
      ]
     },
     "execution_count": 32,
     "metadata": {},
     "output_type": "execute_result"
    }
   ],
   "source": [
    "svc"
   ]
  },
  {
   "cell_type": "markdown",
   "metadata": {},
   "source": [
    "### Modelo 5: DecisionTreeClassifier"
   ]
  },
  {
   "cell_type": "code",
   "execution_count": 33,
   "metadata": {},
   "outputs": [],
   "source": [
    "clf_tree = tree.DecisionTreeClassifier()\n",
    "clf_tree.fit(X_train, y_train)\n",
    "acc_tree = clf_tree.score(X_test,y_test)"
   ]
  },
  {
   "cell_type": "code",
   "execution_count": 34,
   "metadata": {},
   "outputs": [
    {
     "data": {
      "text/plain": [
       "array([[7667, 5757],\n",
       "       [5535, 5542]])"
      ]
     },
     "execution_count": 34,
     "metadata": {},
     "output_type": "execute_result"
    }
   ],
   "source": [
    "y_predDT = clf_tree.predict(X_test)\n",
    "confusion_matrix(y_test, y_predDT)"
   ]
  },
  {
   "cell_type": "code",
   "execution_count": 35,
   "metadata": {},
   "outputs": [
    {
     "data": {
      "text/plain": [
       "0.5391208522101139"
      ]
     },
     "execution_count": 35,
     "metadata": {},
     "output_type": "execute_result"
    }
   ],
   "source": [
    "acc_tree"
   ]
  }
 ],
 "metadata": {
  "kernelspec": {
   "display_name": "Python 3",
   "language": "python",
   "name": "python3"
  },
  "language_info": {
   "codemirror_mode": {
    "name": "ipython",
    "version": 3
   },
   "file_extension": ".py",
   "mimetype": "text/x-python",
   "name": "python",
   "nbconvert_exporter": "python",
   "pygments_lexer": "ipython3",
   "version": "3.7.3"
  }
 },
 "nbformat": 4,
 "nbformat_minor": 2
}
